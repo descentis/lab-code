{
  "nbformat": 4,
  "nbformat_minor": 0,
  "metadata": {
    "colab": {
      "provenance": []
    },
    "kernelspec": {
      "name": "python3",
      "display_name": "Python 3"
    },
    "language_info": {
      "name": "python"
    }
  },
  "cells": [
    {
      "cell_type": "markdown",
      "source": [
        "# Installing the required libraries"
      ],
      "metadata": {
        "id": "ZbyTSnFrwrRf"
      }
    },
    {
      "cell_type": "code",
      "execution_count": 63,
      "metadata": {
        "colab": {
          "base_uri": "https://localhost:8080/"
        },
        "id": "ivoSQIm6wo9g",
        "outputId": "1596efd5-9269-443c-fab2-7f87f69ffb14"
      },
      "outputs": [
        {
          "output_type": "stream",
          "name": "stdout",
          "text": [
            "Requirement already satisfied: transformers[sentencepiece] in /usr/local/lib/python3.10/dist-packages (4.44.2)\n",
            "Requirement already satisfied: filelock in /usr/local/lib/python3.10/dist-packages (from transformers[sentencepiece]) (3.16.1)\n",
            "Requirement already satisfied: huggingface-hub<1.0,>=0.23.2 in /usr/local/lib/python3.10/dist-packages (from transformers[sentencepiece]) (0.24.7)\n",
            "Requirement already satisfied: numpy>=1.17 in /usr/local/lib/python3.10/dist-packages (from transformers[sentencepiece]) (1.26.4)\n",
            "Requirement already satisfied: packaging>=20.0 in /usr/local/lib/python3.10/dist-packages (from transformers[sentencepiece]) (24.1)\n",
            "Requirement already satisfied: pyyaml>=5.1 in /usr/local/lib/python3.10/dist-packages (from transformers[sentencepiece]) (6.0.2)\n",
            "Requirement already satisfied: regex!=2019.12.17 in /usr/local/lib/python3.10/dist-packages (from transformers[sentencepiece]) (2024.9.11)\n",
            "Requirement already satisfied: requests in /usr/local/lib/python3.10/dist-packages (from transformers[sentencepiece]) (2.32.3)\n",
            "Requirement already satisfied: safetensors>=0.4.1 in /usr/local/lib/python3.10/dist-packages (from transformers[sentencepiece]) (0.4.5)\n",
            "Requirement already satisfied: tokenizers<0.20,>=0.19 in /usr/local/lib/python3.10/dist-packages (from transformers[sentencepiece]) (0.19.1)\n",
            "Requirement already satisfied: tqdm>=4.27 in /usr/local/lib/python3.10/dist-packages (from transformers[sentencepiece]) (4.66.5)\n",
            "Requirement already satisfied: protobuf in /usr/local/lib/python3.10/dist-packages (from transformers[sentencepiece]) (3.20.3)\n",
            "Requirement already satisfied: sentencepiece!=0.1.92,>=0.1.91 in /usr/local/lib/python3.10/dist-packages (from transformers[sentencepiece]) (0.2.0)\n",
            "Requirement already satisfied: fsspec>=2023.5.0 in /usr/local/lib/python3.10/dist-packages (from huggingface-hub<1.0,>=0.23.2->transformers[sentencepiece]) (2024.6.1)\n",
            "Requirement already satisfied: typing-extensions>=3.7.4.3 in /usr/local/lib/python3.10/dist-packages (from huggingface-hub<1.0,>=0.23.2->transformers[sentencepiece]) (4.12.2)\n",
            "Requirement already satisfied: charset-normalizer<4,>=2 in /usr/local/lib/python3.10/dist-packages (from requests->transformers[sentencepiece]) (3.4.0)\n",
            "Requirement already satisfied: idna<4,>=2.5 in /usr/local/lib/python3.10/dist-packages (from requests->transformers[sentencepiece]) (3.10)\n",
            "Requirement already satisfied: urllib3<3,>=1.21.1 in /usr/local/lib/python3.10/dist-packages (from requests->transformers[sentencepiece]) (2.2.3)\n",
            "Requirement already satisfied: certifi>=2017.4.17 in /usr/local/lib/python3.10/dist-packages (from requests->transformers[sentencepiece]) (2024.8.30)\n"
          ]
        }
      ],
      "source": [
        "!pip install transformers[sentencepiece]"
      ]
    },
    {
      "cell_type": "markdown",
      "source": [
        "# Importing the pipeline"
      ],
      "metadata": {
        "id": "xhKHnsBTxMPQ"
      }
    },
    {
      "cell_type": "code",
      "source": [
        "from transformers import pipeline"
      ],
      "metadata": {
        "id": "hi-Ofn0z1o7n"
      },
      "execution_count": 64,
      "outputs": []
    },
    {
      "cell_type": "markdown",
      "source": [
        "## Part-1"
      ],
      "metadata": {
        "id": "A727Pij-1ukk"
      }
    },
    {
      "cell_type": "code",
      "source": [
        "# Complete the following code\n",
        "# Write about the model that you will be using\n",
        "def get_sentiment(sentences:list):\n",
        "  classifier = pipeline('sentiment-analysis')\n",
        "  print(\"pipeline loaded sucessfully\")\n",
        "  sentiment_scores = classifier(sentences)\n",
        "  return sentiment_scores"
      ],
      "metadata": {
        "id": "35hgMCdKxdiU"
      },
      "execution_count": 65,
      "outputs": []
    },
    {
      "cell_type": "code",
      "source": [
        "sentences = ['My favorite bar in town love the live music and the martinis - fave is the strawberry shortcake!',\n",
        "             'BED BUGS!!! Horrible place! DO NOT STAY HERE!! Stayed here for a wedding we attended.',\n",
        "             'This was by far the worst hotel experience I''ve ever had.',\n",
        "             'AVOID THIS PLACE LIKE THEY SERVE SALMONELLA!',\n",
        "             'A great independent music store.  Really good selection',\n",
        "             'The best pawn shop in Las Vegas',\n",
        "             'This place is GREAT! Got rid of some jewelry I never wear and they got me the beat price for it.']\n",
        "\n",
        "scores = get_sentiment(sentences)\n",
        "print(\"Sentiment Analysis of Sentences ::: \", scores)\n",
        "for i in range(0, len(scores)):\n",
        "  print(\"Sentence ::: \",sentences[i],\"\\n Label ::: \",scores[i].get('label'),\", Score ::: \", scores[i].get('score'))"
      ],
      "metadata": {
        "id": "P2Z6XSugy9o0",
        "colab": {
          "base_uri": "https://localhost:8080/"
        },
        "outputId": "1c95c1ff-7dc6-4c38-a156-a7b171697a3b"
      },
      "execution_count": 68,
      "outputs": [
        {
          "output_type": "stream",
          "name": "stderr",
          "text": [
            "No model was supplied, defaulted to distilbert/distilbert-base-uncased-finetuned-sst-2-english and revision af0f99b (https://huggingface.co/distilbert/distilbert-base-uncased-finetuned-sst-2-english).\n",
            "Using a pipeline without specifying a model name and revision in production is not recommended.\n"
          ]
        },
        {
          "output_type": "stream",
          "name": "stdout",
          "text": [
            "pipeline loaded sucessfully\n",
            "Sentiment Analysis of Sentences :::  [{'label': 'POSITIVE', 'score': 0.9992315769195557}, {'label': 'NEGATIVE', 'score': 0.9993444085121155}, {'label': 'NEGATIVE', 'score': 0.9997850060462952}, {'label': 'NEGATIVE', 'score': 0.9995777010917664}, {'label': 'POSITIVE', 'score': 0.9998502731323242}, {'label': 'POSITIVE', 'score': 0.9998127818107605}, {'label': 'POSITIVE', 'score': 0.9998098015785217}]\n",
            "Sentence :::  My favorite bar in town love the live music and the martinis - fave is the strawberry shortcake! \n",
            " Label :::  POSITIVE , Score :::  0.9992315769195557\n",
            "Sentence :::  BED BUGS!!! Horrible place! DO NOT STAY HERE!! Stayed here for a wedding we attended. \n",
            " Label :::  NEGATIVE , Score :::  0.9993444085121155\n",
            "Sentence :::  This was by far the worst hotel experience Ive ever had. \n",
            " Label :::  NEGATIVE , Score :::  0.9997850060462952\n",
            "Sentence :::  AVOID THIS PLACE LIKE THEY SERVE SALMONELLA! \n",
            " Label :::  NEGATIVE , Score :::  0.9995777010917664\n",
            "Sentence :::  A great independent music store.  Really good selection \n",
            " Label :::  POSITIVE , Score :::  0.9998502731323242\n",
            "Sentence :::  The best pawn shop in Las Vegas \n",
            " Label :::  POSITIVE , Score :::  0.9998127818107605\n",
            "Sentence :::  This place is GREAT! Got rid of some jewelry I never wear and they got me the beat price for it. \n",
            " Label :::  POSITIVE , Score :::  0.9998098015785217\n"
          ]
        }
      ]
    },
    {
      "cell_type": "markdown",
      "source": [
        "## Part-2"
      ],
      "metadata": {
        "id": "3l4zUZfN1xEQ"
      }
    },
    {
      "cell_type": "code",
      "source": [
        "# Complete the following definition\n",
        "# Write about the model that you will be using\n",
        "def get_answers(context:str, question:str):\n",
        "  classifier = pipeline(\"question-answering\", model=\"deepset/roberta-base-squad2\")\n",
        "  answer = classifier(question=question, context=context)\n",
        "  print(f\"Question: {question}\")\n",
        "  print(f\"Answer: {answer['answer']}\")\n",
        "  print(f\"Score: {answer['score']}\")\n",
        "  return answer['answer']"
      ],
      "metadata": {
        "id": "y0qIIMu41-9U"
      },
      "execution_count": null,
      "outputs": []
    },
    {
      "cell_type": "code",
      "source": [
        "context = \"Hi! I'm Yogeshwaran and I'm working as Java developer, Now I'm planning to learn Generative AI.\"\n",
        "question = \"What do you do now and what's your next plan\"\n",
        "answer = get_answers(context, question)"
      ],
      "metadata": {
        "id": "dG3ofLM-2PpJ",
        "colab": {
          "base_uri": "https://localhost:8080/"
        },
        "outputId": "84f76156-f66e-4cb3-f198-b55599adcf16"
      },
      "execution_count": 69,
      "outputs": [
        {
          "output_type": "stream",
          "name": "stdout",
          "text": [
            "Question: What do you do now and what's your next plan\n",
            "Answer: learn Generative AI\n",
            "Score: 0.3664543330669403\n"
          ]
        }
      ]
    },
    {
      "cell_type": "markdown",
      "source": [
        "## Part-3"
      ],
      "metadata": {
        "id": "OHWm4z8k3hi0"
      }
    },
    {
      "cell_type": "code",
      "source": [
        "def get_NER(sentences):\n",
        "  classifier = pipeline(\"ner\", grouped_entities=True)\n",
        "  NER_scores = classifier(sentences)\n",
        "  return NER_scores"
      ],
      "metadata": {
        "id": "RTeCvXIE3jss"
      },
      "execution_count": 62,
      "outputs": []
    },
    {
      "cell_type": "code",
      "source": [
        "sentences = [\"Hi! I'm Yogeshwaran\",\"I live in Coimbatore that is India from Pacific region\",\n",
        "             \"I have been working as Java developer and current position is software Engineer in a company that is Chennai\",\n",
        "             \"I''m, planning to learn Generative AI\"]\n",
        "NER_scores = get_NER(sentences)\n",
        "print(\"NER Analysis of Sentences ::: \", NER_scores)\n",
        "for i in range(0, len(NER_scores)):\n",
        "  if type(NER_scores[i]) is list:\n",
        "    for j in range(0, len(NER_scores[i])):\n",
        "      print(\"Sentence ::: \",sentences[i], \",\\n Word ::: \", NER_scores[i][j].get('word'),\", Label ::: \",NER_scores[i][j].get('entity_group'),\", Score ::: \",NER_scores[i][j].get('score'))\n",
        "  else:\n",
        "    print(\"Sentence ::: \",sentences[i], \",\\n Word ::: \", NER_scores[i][j].get('word'),\", Label ::: \",NER_scores[i].get('entity_group'),\", Score ::: \",NER_scores[i].get('score'))"
      ],
      "metadata": {
        "colab": {
          "base_uri": "https://localhost:8080/"
        },
        "id": "aL8Njh6vP3a9",
        "outputId": "362e09e7-ac8c-4116-bbd7-373524d28611"
      },
      "execution_count": 77,
      "outputs": [
        {
          "output_type": "stream",
          "name": "stderr",
          "text": [
            "No model was supplied, defaulted to dbmdz/bert-large-cased-finetuned-conll03-english and revision f2482bf (https://huggingface.co/dbmdz/bert-large-cased-finetuned-conll03-english).\n",
            "Using a pipeline without specifying a model name and revision in production is not recommended.\n",
            "Some weights of the model checkpoint at dbmdz/bert-large-cased-finetuned-conll03-english were not used when initializing BertForTokenClassification: ['bert.pooler.dense.bias', 'bert.pooler.dense.weight']\n",
            "- This IS expected if you are initializing BertForTokenClassification from the checkpoint of a model trained on another task or with another architecture (e.g. initializing a BertForSequenceClassification model from a BertForPreTraining model).\n",
            "- This IS NOT expected if you are initializing BertForTokenClassification from the checkpoint of a model that you expect to be exactly identical (initializing a BertForSequenceClassification model from a BertForSequenceClassification model).\n"
          ]
        },
        {
          "output_type": "stream",
          "name": "stdout",
          "text": [
            "NER Analysis of Sentences :::  [[{'entity_group': 'PER', 'score': 0.9692495, 'word': 'Yogeshwaran', 'start': 8, 'end': 19}], [{'entity_group': 'LOC', 'score': 0.98594046, 'word': 'Coimbatore', 'start': 10, 'end': 20}, {'entity_group': 'LOC', 'score': 0.9992144, 'word': 'India', 'start': 29, 'end': 34}, {'entity_group': 'LOC', 'score': 0.9868535, 'word': 'Pacific', 'start': 40, 'end': 47}], [{'entity_group': 'MISC', 'score': 0.992789, 'word': 'Java', 'start': 23, 'end': 27}, {'entity_group': 'LOC', 'score': 0.9933523, 'word': 'Chennai', 'start': 101, 'end': 108}], [{'entity_group': 'MISC', 'score': 0.5145867, 'word': 'Gene', 'start': 24, 'end': 28}, {'entity_group': 'MISC', 'score': 0.96180564, 'word': 'AI', 'start': 35, 'end': 37}]]\n",
            "Sentence :::  Hi! I'm Yogeshwaran ,\n",
            " Word :::  Yogeshwaran , Label :::  PER , Score :::  0.9692495\n",
            "Sentence :::  I live in Coimbatore that is India from Pacific region ,\n",
            " Word :::  Coimbatore , Label :::  LOC , Score :::  0.98594046\n",
            "Sentence :::  I live in Coimbatore that is India from Pacific region ,\n",
            " Word :::  India , Label :::  LOC , Score :::  0.9992144\n",
            "Sentence :::  I live in Coimbatore that is India from Pacific region ,\n",
            " Word :::  Pacific , Label :::  LOC , Score :::  0.9868535\n",
            "Sentence :::  I have been working as Java developer and current position is software Engineer in a company that is Chennai ,\n",
            " Word :::  Java , Label :::  MISC , Score :::  0.992789\n",
            "Sentence :::  I have been working as Java developer and current position is software Engineer in a company that is Chennai ,\n",
            " Word :::  Chennai , Label :::  LOC , Score :::  0.9933523\n",
            "Sentence :::  I''m, planning to learn Generative AI ,\n",
            " Word :::  Gene , Label :::  MISC , Score :::  0.5145867\n",
            "Sentence :::  I''m, planning to learn Generative AI ,\n",
            " Word :::  AI , Label :::  MISC , Score :::  0.96180564\n"
          ]
        }
      ]
    }
  ]
}