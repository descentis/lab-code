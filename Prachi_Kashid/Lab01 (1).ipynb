{
  "nbformat": 4,
  "nbformat_minor": 0,
  "metadata": {
    "colab": {
      "provenance": []
    },
    "kernelspec": {
      "name": "python3",
      "display_name": "Python 3"
    },
    "language_info": {
      "name": "python"
    }
  },
  "cells": [
    {
      "cell_type": "code",
      "execution_count": 1,
      "metadata": {
        "colab": {
          "base_uri": "https://localhost:8080/"
        },
        "id": "rRR6k_S5ENRm",
        "outputId": "f41e1fea-8df3-45b4-f25e-e16e28b29d4d"
      },
      "outputs": [
        {
          "output_type": "stream",
          "name": "stdout",
          "text": [
            "Requirement already satisfied: transformers[sentencepiece] in /usr/local/lib/python3.10/dist-packages (4.44.2)\n",
            "Requirement already satisfied: filelock in /usr/local/lib/python3.10/dist-packages (from transformers[sentencepiece]) (3.16.1)\n",
            "Requirement already satisfied: huggingface-hub<1.0,>=0.23.2 in /usr/local/lib/python3.10/dist-packages (from transformers[sentencepiece]) (0.24.7)\n",
            "Requirement already satisfied: numpy>=1.17 in /usr/local/lib/python3.10/dist-packages (from transformers[sentencepiece]) (1.26.4)\n",
            "Requirement already satisfied: packaging>=20.0 in /usr/local/lib/python3.10/dist-packages (from transformers[sentencepiece]) (24.1)\n",
            "Requirement already satisfied: pyyaml>=5.1 in /usr/local/lib/python3.10/dist-packages (from transformers[sentencepiece]) (6.0.2)\n",
            "Requirement already satisfied: regex!=2019.12.17 in /usr/local/lib/python3.10/dist-packages (from transformers[sentencepiece]) (2024.9.11)\n",
            "Requirement already satisfied: requests in /usr/local/lib/python3.10/dist-packages (from transformers[sentencepiece]) (2.32.3)\n",
            "Requirement already satisfied: safetensors>=0.4.1 in /usr/local/lib/python3.10/dist-packages (from transformers[sentencepiece]) (0.4.5)\n",
            "Requirement already satisfied: tokenizers<0.20,>=0.19 in /usr/local/lib/python3.10/dist-packages (from transformers[sentencepiece]) (0.19.1)\n",
            "Requirement already satisfied: tqdm>=4.27 in /usr/local/lib/python3.10/dist-packages (from transformers[sentencepiece]) (4.66.5)\n",
            "Requirement already satisfied: protobuf in /usr/local/lib/python3.10/dist-packages (from transformers[sentencepiece]) (3.20.3)\n",
            "Requirement already satisfied: sentencepiece!=0.1.92,>=0.1.91 in /usr/local/lib/python3.10/dist-packages (from transformers[sentencepiece]) (0.2.0)\n",
            "Requirement already satisfied: fsspec>=2023.5.0 in /usr/local/lib/python3.10/dist-packages (from huggingface-hub<1.0,>=0.23.2->transformers[sentencepiece]) (2024.6.1)\n",
            "Requirement already satisfied: typing-extensions>=3.7.4.3 in /usr/local/lib/python3.10/dist-packages (from huggingface-hub<1.0,>=0.23.2->transformers[sentencepiece]) (4.12.2)\n",
            "Requirement already satisfied: charset-normalizer<4,>=2 in /usr/local/lib/python3.10/dist-packages (from requests->transformers[sentencepiece]) (3.4.0)\n",
            "Requirement already satisfied: idna<4,>=2.5 in /usr/local/lib/python3.10/dist-packages (from requests->transformers[sentencepiece]) (3.10)\n",
            "Requirement already satisfied: urllib3<3,>=1.21.1 in /usr/local/lib/python3.10/dist-packages (from requests->transformers[sentencepiece]) (2.2.3)\n",
            "Requirement already satisfied: certifi>=2017.4.17 in /usr/local/lib/python3.10/dist-packages (from requests->transformers[sentencepiece]) (2024.8.30)\n"
          ]
        }
      ],
      "source": [
        "!pip install transformers[sentencepiece]"
      ]
    },
    {
      "cell_type": "code",
      "source": [
        "from transformers import pipeline"
      ],
      "metadata": {
        "id": "5wM_VToQEhC5"
      },
      "execution_count": 2,
      "outputs": []
    },
    {
      "cell_type": "markdown",
      "source": [
        "##Part 1"
      ],
      "metadata": {
        "id": "Bvvl4o-eEt7Q"
      }
    },
    {
      "cell_type": "code",
      "source": [
        "def get_sentiment(sentences:list):\n",
        "\n",
        "  sentiment_classifier = pipeline(\"sentiment-analysis\")\n",
        "\n",
        "  sentiment_scores = sentiment_classifier(sentences)\n",
        "\n",
        "  return sentiment_scores\n",
        "\n",
        "sentences = ['My favorite bar in town love the live music and the martinis - fave is the strawberry shortcake!',\n",
        "             'BED BUGS!!! Horrible place! DO NOT STAY HERE!! Stayed here for a wedding we attended.',\n",
        "             'This was by far the worst hotel experience I have ever had.',\n",
        "             'AVOID THIS PLACE LIKE THEY SERVE SALMONELLA!',\n",
        "             'A great independent music store.  Really good selection',\n",
        "             'The best pawn shop in Las Vegas',\n",
        "             'This place is GREAT! Got rid of some jewelry I never wear and they got me the beat price for it.']\n",
        "\n",
        "scores = get_sentiment(sentences)\n",
        "print(scores)"
      ],
      "metadata": {
        "colab": {
          "base_uri": "https://localhost:8080/"
        },
        "id": "VNIsIpSUEwl9",
        "outputId": "d0599ea4-d5fe-4556-98a4-d1a1651443d7"
      },
      "execution_count": 7,
      "outputs": [
        {
          "output_type": "stream",
          "name": "stderr",
          "text": [
            "No model was supplied, defaulted to distilbert/distilbert-base-uncased-finetuned-sst-2-english and revision af0f99b (https://huggingface.co/distilbert/distilbert-base-uncased-finetuned-sst-2-english).\n",
            "Using a pipeline without specifying a model name and revision in production is not recommended.\n"
          ]
        },
        {
          "output_type": "stream",
          "name": "stdout",
          "text": [
            "[{'label': 'POSITIVE', 'score': 0.9992315769195557}, {'label': 'NEGATIVE', 'score': 0.9993444085121155}, {'label': 'NEGATIVE', 'score': 0.9997767806053162}, {'label': 'NEGATIVE', 'score': 0.9995777010917664}, {'label': 'POSITIVE', 'score': 0.9998502731323242}, {'label': 'POSITIVE', 'score': 0.9998127818107605}, {'label': 'POSITIVE', 'score': 0.9998098015785217}]\n"
          ]
        }
      ]
    },
    {
      "cell_type": "markdown",
      "source": [
        "#Part 2"
      ],
      "metadata": {
        "id": "-Cfs6ZZHGOGs"
      }
    },
    {
      "cell_type": "code",
      "source": [
        "qa_pipeline = pipeline(\"question-answering\")\n",
        "\n",
        "def get_answers(context: str, question: str):\n",
        "\n",
        "    answer = qa_pipeline(question=question, context=context)\n",
        "    return answer['answer']\n",
        "\n",
        "context = \"I went to Norway for vacation where i saw the Northern lights\"\n",
        "#question = \"where I went for vacation?\"\n",
        "question = \"what I saw in my vacation?\"\n",
        "\n",
        "answer = get_answers(context, question)\n",
        "\n",
        "print(question + ': '+'Answer : ' + answer)"
      ],
      "metadata": {
        "colab": {
          "base_uri": "https://localhost:8080/"
        },
        "id": "S10nmPq3GPta",
        "outputId": "956d0c4b-edd6-4b9b-f899-444073bd7af1"
      },
      "execution_count": 16,
      "outputs": [
        {
          "output_type": "stream",
          "name": "stderr",
          "text": [
            "No model was supplied, defaulted to distilbert/distilbert-base-cased-distilled-squad and revision 626af31 (https://huggingface.co/distilbert/distilbert-base-cased-distilled-squad).\n",
            "Using a pipeline without specifying a model name and revision in production is not recommended.\n"
          ]
        },
        {
          "output_type": "stream",
          "name": "stdout",
          "text": [
            "what I saw in my vacation?: Answer : Northern lights\n"
          ]
        }
      ]
    },
    {
      "cell_type": "markdown",
      "source": [
        "#Part 3"
      ],
      "metadata": {
        "id": "i4rSi7tLJg-2"
      }
    },
    {
      "cell_type": "code",
      "source": [
        "from transformers import AutoTokenizer, AutoModelForTokenClassification\n",
        "from transformers import pipeline\n",
        "\n",
        "# Loading the tokenizer\n",
        "tokenizer = AutoTokenizer.from_pretrained(\"dslim/bert-base-NER\")\n",
        "\n",
        "# Loading the pre-trained model\n",
        "model = AutoModelForTokenClassification.from_pretrained(\"dslim/bert-base-NER\")\n",
        "\n",
        "def get_NER(sentences2:list):\n",
        "  # Creating pipeline for NER\n",
        "  classifier = pipeline(\"ner\", model=model, tokenizer=tokenizer)\n",
        "\n",
        "  # Get NER results\n",
        "  NER_scores = classifier(sentences2)\n",
        "  return NER_scores"
      ],
      "metadata": {
        "colab": {
          "base_uri": "https://localhost:8080/"
        },
        "id": "Es51wNv7JiR9",
        "outputId": "8bd46bab-bcdc-4b96-c2b4-aef3f6dca849"
      },
      "execution_count": 20,
      "outputs": [
        {
          "output_type": "stream",
          "name": "stderr",
          "text": [
            "Some weights of the model checkpoint at dslim/bert-base-NER were not used when initializing BertForTokenClassification: ['bert.pooler.dense.bias', 'bert.pooler.dense.weight']\n",
            "- This IS expected if you are initializing BertForTokenClassification from the checkpoint of a model trained on another task or with another architecture (e.g. initializing a BertForSequenceClassification model from a BertForPreTraining model).\n",
            "- This IS NOT expected if you are initializing BertForTokenClassification from the checkpoint of a model that you expect to be exactly identical (initializing a BertForSequenceClassification model from a BertForSequenceClassification model).\n"
          ]
        }
      ]
    },
    {
      "cell_type": "code",
      "source": [
        "\n",
        "sentences = [\n",
        "    \"Alice works at Google in Mountain View.\",\n",
        "    \"Sarah recently moved from Boston to Austin.\"\n",
        "]\n",
        "\n",
        "results = get_NER(sentences)\n",
        "for result in results:\n",
        "    print(result)\n"
      ],
      "metadata": {
        "colab": {
          "base_uri": "https://localhost:8080/"
        },
        "id": "PSL8_5KcL1C_",
        "outputId": "c96e78e4-7859-4810-f154-eee2da8c454f"
      },
      "execution_count": 24,
      "outputs": [
        {
          "output_type": "stream",
          "name": "stdout",
          "text": [
            "[{'entity': 'B-PER', 'score': 0.9945338, 'index': 1, 'word': 'Alice', 'start': 0, 'end': 5}, {'entity': 'B-ORG', 'score': 0.997811, 'index': 4, 'word': 'Google', 'start': 15, 'end': 21}, {'entity': 'B-LOC', 'score': 0.9980361, 'index': 6, 'word': 'Mountain', 'start': 25, 'end': 33}, {'entity': 'I-LOC', 'score': 0.9990626, 'index': 7, 'word': 'View', 'start': 34, 'end': 38}]\n",
            "[{'entity': 'B-PER', 'score': 0.9991061, 'index': 1, 'word': 'Sarah', 'start': 0, 'end': 5}, {'entity': 'B-LOC', 'score': 0.9988487, 'index': 5, 'word': 'Boston', 'start': 26, 'end': 32}, {'entity': 'B-LOC', 'score': 0.9988349, 'index': 7, 'word': 'Austin', 'start': 36, 'end': 42}]\n"
          ]
        }
      ]
    }
  ]
}