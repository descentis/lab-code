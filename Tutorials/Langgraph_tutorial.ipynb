{
  "nbformat": 4,
  "nbformat_minor": 0,
  "metadata": {
    "colab": {
      "provenance": []
    },
    "kernelspec": {
      "name": "python3",
      "display_name": "Python 3"
    },
    "language_info": {
      "name": "python"
    }
  },
  "cells": [
    {
      "cell_type": "markdown",
      "source": [
        "# LangGraph\n",
        "------------\n",
        "### LangGraph can help you create multiagent workflow.\n",
        "\n",
        "## Key Features:\n",
        "> ### 1. Cycles and Branching: Conditional statements and loops\n",
        "> ### 2. Easily integrate it with the Langchain\n",
        "> ### 3. You can have human in the loop also."
      ],
      "metadata": {
        "id": "eoIVG7B6WC2O"
      }
    },
    {
      "cell_type": "code",
      "execution_count": 1,
      "metadata": {
        "colab": {
          "base_uri": "https://localhost:8080/"
        },
        "id": "r-nXcHqxV2D3",
        "outputId": "0a46d6f0-81f7-4b40-8c0c-e0605754cf7c"
      },
      "outputs": [
        {
          "output_type": "stream",
          "name": "stdout",
          "text": [
            "Collecting langchain\n",
            "  Downloading langchain-0.3.4-py3-none-any.whl.metadata (7.1 kB)\n",
            "Collecting langgraph\n",
            "  Downloading langgraph-0.2.39-py3-none-any.whl.metadata (13 kB)\n",
            "Collecting langsmith\n",
            "  Downloading langsmith-0.1.136-py3-none-any.whl.metadata (13 kB)\n",
            "Collecting langchain-fireworks\n",
            "  Downloading langchain_fireworks-0.2.1-py3-none-any.whl.metadata (4.0 kB)\n",
            "Requirement already satisfied: PyYAML>=5.3 in /usr/local/lib/python3.10/dist-packages (from langchain) (6.0.2)\n",
            "Requirement already satisfied: SQLAlchemy<3,>=1.4 in /usr/local/lib/python3.10/dist-packages (from langchain) (2.0.35)\n",
            "Requirement already satisfied: aiohttp<4.0.0,>=3.8.3 in /usr/local/lib/python3.10/dist-packages (from langchain) (3.10.10)\n",
            "Requirement already satisfied: async-timeout<5.0.0,>=4.0.0 in /usr/local/lib/python3.10/dist-packages (from langchain) (4.0.3)\n",
            "Collecting langchain-core<0.4.0,>=0.3.12 (from langchain)\n",
            "  Downloading langchain_core-0.3.12-py3-none-any.whl.metadata (6.3 kB)\n",
            "Collecting langchain-text-splitters<0.4.0,>=0.3.0 (from langchain)\n",
            "  Downloading langchain_text_splitters-0.3.0-py3-none-any.whl.metadata (2.3 kB)\n",
            "Requirement already satisfied: numpy<2,>=1 in /usr/local/lib/python3.10/dist-packages (from langchain) (1.26.4)\n",
            "Requirement already satisfied: pydantic<3.0.0,>=2.7.4 in /usr/local/lib/python3.10/dist-packages (from langchain) (2.9.2)\n",
            "Requirement already satisfied: requests<3,>=2 in /usr/local/lib/python3.10/dist-packages (from langchain) (2.32.3)\n",
            "Requirement already satisfied: tenacity!=8.4.0,<10,>=8.1.0 in /usr/local/lib/python3.10/dist-packages (from langchain) (9.0.0)\n",
            "Collecting langgraph-checkpoint<3.0.0,>=2.0.0 (from langgraph)\n",
            "  Downloading langgraph_checkpoint-2.0.1-py3-none-any.whl.metadata (4.6 kB)\n",
            "Collecting langgraph-sdk<0.2.0,>=0.1.32 (from langgraph)\n",
            "  Downloading langgraph_sdk-0.1.33-py3-none-any.whl.metadata (1.8 kB)\n",
            "Collecting httpx<1,>=0.23.0 (from langsmith)\n",
            "  Downloading httpx-0.27.2-py3-none-any.whl.metadata (7.1 kB)\n",
            "Collecting orjson<4.0.0,>=3.9.14 (from langsmith)\n",
            "  Downloading orjson-3.10.9-cp310-cp310-manylinux_2_17_x86_64.manylinux2014_x86_64.whl.metadata (50 kB)\n",
            "\u001b[2K     \u001b[90m━━━━━━━━━━━━━━━━━━━━━━━━━━━━━━━━━━━━━━━━\u001b[0m \u001b[32m50.6/50.6 kB\u001b[0m \u001b[31m3.0 MB/s\u001b[0m eta \u001b[36m0:00:00\u001b[0m\n",
            "\u001b[?25hCollecting requests-toolbelt<2.0.0,>=1.0.0 (from langsmith)\n",
            "  Downloading requests_toolbelt-1.0.0-py2.py3-none-any.whl.metadata (14 kB)\n",
            "Collecting fireworks-ai>=0.13.0 (from langchain-fireworks)\n",
            "  Downloading fireworks_ai-0.15.7-py3-none-any.whl.metadata (5.6 kB)\n",
            "Collecting openai<2.0.0,>=1.10.0 (from langchain-fireworks)\n",
            "  Downloading openai-1.52.0-py3-none-any.whl.metadata (24 kB)\n",
            "Requirement already satisfied: aiohappyeyeballs>=2.3.0 in /usr/local/lib/python3.10/dist-packages (from aiohttp<4.0.0,>=3.8.3->langchain) (2.4.3)\n",
            "Requirement already satisfied: aiosignal>=1.1.2 in /usr/local/lib/python3.10/dist-packages (from aiohttp<4.0.0,>=3.8.3->langchain) (1.3.1)\n",
            "Requirement already satisfied: attrs>=17.3.0 in /usr/local/lib/python3.10/dist-packages (from aiohttp<4.0.0,>=3.8.3->langchain) (24.2.0)\n",
            "Requirement already satisfied: frozenlist>=1.1.1 in /usr/local/lib/python3.10/dist-packages (from aiohttp<4.0.0,>=3.8.3->langchain) (1.4.1)\n",
            "Requirement already satisfied: multidict<7.0,>=4.5 in /usr/local/lib/python3.10/dist-packages (from aiohttp<4.0.0,>=3.8.3->langchain) (6.1.0)\n",
            "Requirement already satisfied: yarl<2.0,>=1.12.0 in /usr/local/lib/python3.10/dist-packages (from aiohttp<4.0.0,>=3.8.3->langchain) (1.15.2)\n",
            "Collecting httpx-ws (from fireworks-ai>=0.13.0->langchain-fireworks)\n",
            "  Downloading httpx_ws-0.6.2-py3-none-any.whl.metadata (8.8 kB)\n",
            "Collecting httpx-sse (from fireworks-ai>=0.13.0->langchain-fireworks)\n",
            "  Downloading httpx_sse-0.4.0-py3-none-any.whl.metadata (9.0 kB)\n",
            "Requirement already satisfied: Pillow in /usr/local/lib/python3.10/dist-packages (from fireworks-ai>=0.13.0->langchain-fireworks) (10.4.0)\n",
            "Requirement already satisfied: anyio in /usr/local/lib/python3.10/dist-packages (from httpx<1,>=0.23.0->langsmith) (3.7.1)\n",
            "Requirement already satisfied: certifi in /usr/local/lib/python3.10/dist-packages (from httpx<1,>=0.23.0->langsmith) (2024.8.30)\n",
            "Collecting httpcore==1.* (from httpx<1,>=0.23.0->langsmith)\n",
            "  Downloading httpcore-1.0.6-py3-none-any.whl.metadata (21 kB)\n",
            "Requirement already satisfied: idna in /usr/local/lib/python3.10/dist-packages (from httpx<1,>=0.23.0->langsmith) (3.10)\n",
            "Requirement already satisfied: sniffio in /usr/local/lib/python3.10/dist-packages (from httpx<1,>=0.23.0->langsmith) (1.3.1)\n",
            "Collecting h11<0.15,>=0.13 (from httpcore==1.*->httpx<1,>=0.23.0->langsmith)\n",
            "  Downloading h11-0.14.0-py3-none-any.whl.metadata (8.2 kB)\n",
            "Collecting jsonpatch<2.0,>=1.33 (from langchain-core<0.4.0,>=0.3.12->langchain)\n",
            "  Downloading jsonpatch-1.33-py2.py3-none-any.whl.metadata (3.0 kB)\n",
            "Requirement already satisfied: packaging<25,>=23.2 in /usr/local/lib/python3.10/dist-packages (from langchain-core<0.4.0,>=0.3.12->langchain) (24.1)\n",
            "Requirement already satisfied: typing-extensions>=4.7 in /usr/local/lib/python3.10/dist-packages (from langchain-core<0.4.0,>=0.3.12->langchain) (4.12.2)\n",
            "Requirement already satisfied: msgpack<2.0.0,>=1.1.0 in /usr/local/lib/python3.10/dist-packages (from langgraph-checkpoint<3.0.0,>=2.0.0->langgraph) (1.1.0)\n",
            "Requirement already satisfied: distro<2,>=1.7.0 in /usr/lib/python3/dist-packages (from openai<2.0.0,>=1.10.0->langchain-fireworks) (1.7.0)\n",
            "Collecting jiter<1,>=0.4.0 (from openai<2.0.0,>=1.10.0->langchain-fireworks)\n",
            "  Downloading jiter-0.6.1-cp310-cp310-manylinux_2_17_x86_64.manylinux2014_x86_64.whl.metadata (5.2 kB)\n",
            "Requirement already satisfied: tqdm>4 in /usr/local/lib/python3.10/dist-packages (from openai<2.0.0,>=1.10.0->langchain-fireworks) (4.66.5)\n",
            "Requirement already satisfied: annotated-types>=0.6.0 in /usr/local/lib/python3.10/dist-packages (from pydantic<3.0.0,>=2.7.4->langchain) (0.7.0)\n",
            "Requirement already satisfied: pydantic-core==2.23.4 in /usr/local/lib/python3.10/dist-packages (from pydantic<3.0.0,>=2.7.4->langchain) (2.23.4)\n",
            "Requirement already satisfied: charset-normalizer<4,>=2 in /usr/local/lib/python3.10/dist-packages (from requests<3,>=2->langchain) (3.4.0)\n",
            "Requirement already satisfied: urllib3<3,>=1.21.1 in /usr/local/lib/python3.10/dist-packages (from requests<3,>=2->langchain) (2.2.3)\n",
            "Requirement already satisfied: greenlet!=0.4.17 in /usr/local/lib/python3.10/dist-packages (from SQLAlchemy<3,>=1.4->langchain) (3.1.1)\n",
            "Requirement already satisfied: exceptiongroup in /usr/local/lib/python3.10/dist-packages (from anyio->httpx<1,>=0.23.0->langsmith) (1.2.2)\n",
            "Collecting jsonpointer>=1.9 (from jsonpatch<2.0,>=1.33->langchain-core<0.4.0,>=0.3.12->langchain)\n",
            "  Downloading jsonpointer-3.0.0-py2.py3-none-any.whl.metadata (2.3 kB)\n",
            "Requirement already satisfied: propcache>=0.2.0 in /usr/local/lib/python3.10/dist-packages (from yarl<2.0,>=1.12.0->aiohttp<4.0.0,>=3.8.3->langchain) (0.2.0)\n",
            "Collecting anyio (from httpx<1,>=0.23.0->langsmith)\n",
            "  Downloading anyio-4.6.2.post1-py3-none-any.whl.metadata (4.7 kB)\n",
            "Collecting wsproto (from httpx-ws->fireworks-ai>=0.13.0->langchain-fireworks)\n",
            "  Downloading wsproto-1.2.0-py3-none-any.whl.metadata (5.6 kB)\n",
            "Downloading langchain-0.3.4-py3-none-any.whl (1.0 MB)\n",
            "\u001b[2K   \u001b[90m━━━━━━━━━━━━━━━━━━━━━━━━━━━━━━━━━━━━━━━━\u001b[0m \u001b[32m1.0/1.0 MB\u001b[0m \u001b[31m25.6 MB/s\u001b[0m eta \u001b[36m0:00:00\u001b[0m\n",
            "\u001b[?25hDownloading langgraph-0.2.39-py3-none-any.whl (113 kB)\n",
            "\u001b[2K   \u001b[90m━━━━━━━━━━━━━━━━━━━━━━━━━━━━━━━━━━━━━━━━\u001b[0m \u001b[32m113.5/113.5 kB\u001b[0m \u001b[31m8.0 MB/s\u001b[0m eta \u001b[36m0:00:00\u001b[0m\n",
            "\u001b[?25hDownloading langsmith-0.1.136-py3-none-any.whl (296 kB)\n",
            "\u001b[2K   \u001b[90m━━━━━━━━━━━━━━━━━━━━━━━━━━━━━━━━━━━━━━━━\u001b[0m \u001b[32m296.7/296.7 kB\u001b[0m \u001b[31m17.5 MB/s\u001b[0m eta \u001b[36m0:00:00\u001b[0m\n",
            "\u001b[?25hDownloading langchain_fireworks-0.2.1-py3-none-any.whl (17 kB)\n",
            "Downloading fireworks_ai-0.15.7-py3-none-any.whl (109 kB)\n",
            "\u001b[2K   \u001b[90m━━━━━━━━━━━━━━━━━━━━━━━━━━━━━━━━━━━━━━━━\u001b[0m \u001b[32m109.9/109.9 kB\u001b[0m \u001b[31m7.8 MB/s\u001b[0m eta \u001b[36m0:00:00\u001b[0m\n",
            "\u001b[?25hDownloading httpx-0.27.2-py3-none-any.whl (76 kB)\n",
            "\u001b[2K   \u001b[90m━━━━━━━━━━━━━━━━━━━━━━━━━━━━━━━━━━━━━━━━\u001b[0m \u001b[32m76.4/76.4 kB\u001b[0m \u001b[31m5.5 MB/s\u001b[0m eta \u001b[36m0:00:00\u001b[0m\n",
            "\u001b[?25hDownloading httpcore-1.0.6-py3-none-any.whl (78 kB)\n",
            "\u001b[2K   \u001b[90m━━━━━━━━━━━━━━━━━━━━━━━━━━━━━━━━━━━━━━━━\u001b[0m \u001b[32m78.0/78.0 kB\u001b[0m \u001b[31m5.7 MB/s\u001b[0m eta \u001b[36m0:00:00\u001b[0m\n",
            "\u001b[?25hDownloading langchain_core-0.3.12-py3-none-any.whl (407 kB)\n",
            "\u001b[2K   \u001b[90m━━━━━━━━━━━━━━━━━━━━━━━━━━━━━━━━━━━━━━━━\u001b[0m \u001b[32m407.7/407.7 kB\u001b[0m \u001b[31m21.1 MB/s\u001b[0m eta \u001b[36m0:00:00\u001b[0m\n",
            "\u001b[?25hDownloading langchain_text_splitters-0.3.0-py3-none-any.whl (25 kB)\n",
            "Downloading langgraph_checkpoint-2.0.1-py3-none-any.whl (22 kB)\n",
            "Downloading langgraph_sdk-0.1.33-py3-none-any.whl (28 kB)\n",
            "Downloading openai-1.52.0-py3-none-any.whl (386 kB)\n",
            "\u001b[2K   \u001b[90m━━━━━━━━━━━━━━━━━━━━━━━━━━━━━━━━━━━━━━━━\u001b[0m \u001b[32m386.9/386.9 kB\u001b[0m \u001b[31m25.3 MB/s\u001b[0m eta \u001b[36m0:00:00\u001b[0m\n",
            "\u001b[?25hDownloading orjson-3.10.9-cp310-cp310-manylinux_2_17_x86_64.manylinux2014_x86_64.whl (144 kB)\n",
            "\u001b[2K   \u001b[90m━━━━━━━━━━━━━━━━━━━━━━━━━━━━━━━━━━━━━━━━\u001b[0m \u001b[32m144.5/144.5 kB\u001b[0m \u001b[31m10.9 MB/s\u001b[0m eta \u001b[36m0:00:00\u001b[0m\n",
            "\u001b[?25hDownloading requests_toolbelt-1.0.0-py2.py3-none-any.whl (54 kB)\n",
            "\u001b[2K   \u001b[90m━━━━━━━━━━━━━━━━━━━━━━━━━━━━━━━━━━━━━━━━\u001b[0m \u001b[32m54.5/54.5 kB\u001b[0m \u001b[31m3.9 MB/s\u001b[0m eta \u001b[36m0:00:00\u001b[0m\n",
            "\u001b[?25hDownloading httpx_sse-0.4.0-py3-none-any.whl (7.8 kB)\n",
            "Downloading jiter-0.6.1-cp310-cp310-manylinux_2_17_x86_64.manylinux2014_x86_64.whl (325 kB)\n",
            "\u001b[2K   \u001b[90m━━━━━━━━━━━━━━━━━━━━━━━━━━━━━━━━━━━━━━━━\u001b[0m \u001b[32m325.2/325.2 kB\u001b[0m \u001b[31m24.2 MB/s\u001b[0m eta \u001b[36m0:00:00\u001b[0m\n",
            "\u001b[?25hDownloading jsonpatch-1.33-py2.py3-none-any.whl (12 kB)\n",
            "Downloading httpx_ws-0.6.2-py3-none-any.whl (14 kB)\n",
            "Downloading anyio-4.6.2.post1-py3-none-any.whl (90 kB)\n",
            "\u001b[2K   \u001b[90m━━━━━━━━━━━━━━━━━━━━━━━━━━━━━━━━━━━━━━━━\u001b[0m \u001b[32m90.4/90.4 kB\u001b[0m \u001b[31m7.0 MB/s\u001b[0m eta \u001b[36m0:00:00\u001b[0m\n",
            "\u001b[?25hDownloading h11-0.14.0-py3-none-any.whl (58 kB)\n",
            "\u001b[2K   \u001b[90m━━━━━━━━━━━━━━━━━━━━━━━━━━━━━━━━━━━━━━━━\u001b[0m \u001b[32m58.3/58.3 kB\u001b[0m \u001b[31m4.4 MB/s\u001b[0m eta \u001b[36m0:00:00\u001b[0m\n",
            "\u001b[?25hDownloading jsonpointer-3.0.0-py2.py3-none-any.whl (7.6 kB)\n",
            "Downloading wsproto-1.2.0-py3-none-any.whl (24 kB)\n",
            "Installing collected packages: orjson, jsonpointer, jiter, httpx-sse, h11, anyio, wsproto, requests-toolbelt, jsonpatch, httpcore, httpx, openai, langsmith, langgraph-sdk, httpx-ws, langchain-core, fireworks-ai, langgraph-checkpoint, langchain-text-splitters, langchain-fireworks, langgraph, langchain\n",
            "  Attempting uninstall: anyio\n",
            "    Found existing installation: anyio 3.7.1\n",
            "    Uninstalling anyio-3.7.1:\n",
            "      Successfully uninstalled anyio-3.7.1\n",
            "\u001b[31mERROR: pip's dependency resolver does not currently take into account all the packages that are installed. This behaviour is the source of the following dependency conflicts.\n",
            "jupyter-server 1.24.0 requires anyio<4,>=3.1.0, but you have anyio 4.6.2.post1 which is incompatible.\u001b[0m\u001b[31m\n",
            "\u001b[0mSuccessfully installed anyio-4.6.2.post1 fireworks-ai-0.15.7 h11-0.14.0 httpcore-1.0.6 httpx-0.27.2 httpx-sse-0.4.0 httpx-ws-0.6.2 jiter-0.6.1 jsonpatch-1.33 jsonpointer-3.0.0 langchain-0.3.4 langchain-core-0.3.12 langchain-fireworks-0.2.1 langchain-text-splitters-0.3.0 langgraph-0.2.39 langgraph-checkpoint-2.0.1 langgraph-sdk-0.1.33 langsmith-0.1.136 openai-1.52.0 orjson-3.10.9 requests-toolbelt-1.0.0 wsproto-1.2.0\n"
          ]
        }
      ],
      "source": [
        "!pip install -U langchain langgraph langsmith langchain-fireworks"
      ]
    },
    {
      "cell_type": "markdown",
      "source": [
        "## Setting up the APIs"
      ],
      "metadata": {
        "id": "H24ipsYDYPni"
      }
    },
    {
      "cell_type": "code",
      "source": [
        "import getpass\n",
        "import os\n",
        "\n",
        "os.environ[\"LANGCHAIN_TRACING_V2\"] = \"true\"\n",
        "os.environ[\"LANGCHAIN_API_KEY\"] = getpass.getpass()"
      ],
      "metadata": {
        "colab": {
          "base_uri": "https://localhost:8080/"
        },
        "id": "9wfr-UeCYZep",
        "outputId": "d3997db2-f344-42fa-fc6b-92d9a7f2aac1"
      },
      "execution_count": 2,
      "outputs": [
        {
          "name": "stdout",
          "output_type": "stream",
          "text": [
            "··········\n"
          ]
        }
      ]
    },
    {
      "cell_type": "code",
      "source": [
        "os.environ['FIREWORKS_API_KEY'] = getpass.getpass()"
      ],
      "metadata": {
        "colab": {
          "base_uri": "https://localhost:8080/"
        },
        "id": "CF-cPLOMY15m",
        "outputId": "80664f4d-9d53-4ab2-ca0f-30918dfec2ce"
      },
      "execution_count": 3,
      "outputs": [
        {
          "name": "stdout",
          "output_type": "stream",
          "text": [
            "··········\n"
          ]
        }
      ]
    },
    {
      "cell_type": "markdown",
      "source": [
        "# Basic Chatbot"
      ],
      "metadata": {
        "id": "jnQa32fWZVpF"
      }
    },
    {
      "cell_type": "code",
      "source": [
        "from typing import Annotated\n",
        "from typing_extensions import TypedDict\n",
        "\n",
        "from langgraph.graph import StateGraph, START, END\n",
        "from langgraph.graph.message import add_messages\n",
        "\n",
        "class State(TypedDict):\n",
        "  messages: Annotated[list, add_messages]\n",
        "\n",
        "graph_builder = StateGraph(State)"
      ],
      "metadata": {
        "id": "VNRe19-tZtSz"
      },
      "execution_count": 4,
      "outputs": []
    },
    {
      "cell_type": "markdown",
      "source": [
        "```\n",
        "name = Annotated[str, \"first letter is capital\"]\n",
        "```"
      ],
      "metadata": {
        "id": "r5005Jqlam8I"
      }
    },
    {
      "cell_type": "markdown",
      "source": [
        "## Now our graph knows two things:\n",
        "> ### 1. Every node will recieve the current state as inuput and return a value that updates that state\n",
        "> ### 2. Messages will be appended to the current list, rather than directly overwritten."
      ],
      "metadata": {
        "id": "5tvW9tYbbbpB"
      }
    },
    {
      "cell_type": "markdown",
      "source": [
        "## Let's define a node (chatbot node). Nodes represent the working unit. It is going to be a simple Python fucntion"
      ],
      "metadata": {
        "id": "yhB42tOecHih"
      }
    },
    {
      "cell_type": "code",
      "source": [
        "from langchain_fireworks import ChatFireworks\n",
        "\n",
        "llm = ChatFireworks(model='accounts/fireworks/models/llama-v3p1-8b-instruct')\n",
        "\n",
        "\n",
        "def chatbot(state: State):\n",
        "  return {'messages': [llm.invoke(state[\"messages\"])]}\n",
        "\n",
        "graph_builder.add_node('chatbot', chatbot)"
      ],
      "metadata": {
        "colab": {
          "base_uri": "https://localhost:8080/"
        },
        "id": "0STSK-OkcSVf",
        "outputId": "4842b4cc-9fef-407f-8930-7de87d081b7f"
      },
      "execution_count": 5,
      "outputs": [
        {
          "output_type": "execute_result",
          "data": {
            "text/plain": [
              "<langgraph.graph.state.StateGraph at 0x7d86f7199c30>"
            ]
          },
          "metadata": {},
          "execution_count": 5
        }
      ]
    },
    {
      "cell_type": "markdown",
      "source": [
        "### Creating an entry point"
      ],
      "metadata": {
        "id": "plUwoc-Ad2hf"
      }
    },
    {
      "cell_type": "code",
      "source": [
        "graph_builder.add_edge('chatbot', END)"
      ],
      "metadata": {
        "colab": {
          "base_uri": "https://localhost:8080/"
        },
        "id": "c8Y5sV_oeJ1G",
        "outputId": "c2e496b7-f4f8-47af-cdae-4c9a172790ef"
      },
      "execution_count": 7,
      "outputs": [
        {
          "output_type": "execute_result",
          "data": {
            "text/plain": [
              "<langgraph.graph.state.StateGraph at 0x7d86f7199c30>"
            ]
          },
          "metadata": {},
          "execution_count": 7
        }
      ]
    },
    {
      "cell_type": "markdown",
      "source": [
        "### Creating an endpoint"
      ],
      "metadata": {
        "id": "2OnK2YZ_eHQI"
      }
    },
    {
      "cell_type": "code",
      "source": [
        "graph_builder.add_edge(START, 'chatbot')"
      ],
      "metadata": {
        "colab": {
          "base_uri": "https://localhost:8080/"
        },
        "id": "qbIQT_sMd4tz",
        "outputId": "0908cd98-218b-42fe-e3ed-a18cf7a4f0c7"
      },
      "execution_count": 6,
      "outputs": [
        {
          "output_type": "execute_result",
          "data": {
            "text/plain": [
              "<langgraph.graph.state.StateGraph at 0x7d86f7199c30>"
            ]
          },
          "metadata": {},
          "execution_count": 6
        }
      ]
    },
    {
      "cell_type": "markdown",
      "source": [
        "### Now we would like to run our graph, for that we will compile it."
      ],
      "metadata": {
        "id": "q6_0zJiheVZq"
      }
    },
    {
      "cell_type": "code",
      "source": [
        "graph = graph_builder.compile()"
      ],
      "metadata": {
        "id": "Twf2keBlebCW"
      },
      "execution_count": 8,
      "outputs": []
    },
    {
      "cell_type": "markdown",
      "source": [
        "Let's visualize our graph"
      ],
      "metadata": {
        "id": "zUrfti3UefxV"
      }
    },
    {
      "cell_type": "code",
      "source": [
        "from IPython.display import Image, display\n",
        "\n",
        "try:\n",
        "  display(Image(graph.get_graph().draw_mermaid_png()))\n",
        "except Exception:\n",
        "  pass"
      ],
      "metadata": {
        "colab": {
          "base_uri": "https://localhost:8080/",
          "height": 251
        },
        "id": "tG_u0w0pekLo",
        "outputId": "5b3f8bce-6186-4a1a-c8f1-5599b78a1b0c"
      },
      "execution_count": 9,
      "outputs": [
        {
          "output_type": "display_data",
          "data": {
            "image/jpeg": "[encoded data removed]",
            "text/plain": [
              "<IPython.core.display.Image object>"
            ]
          },
          "metadata": {}
        }
      ]
    },
    {
      "cell_type": "markdown",
      "source": [
        "### Let's run our chatbot"
      ],
      "metadata": {
        "id": "nvleWoXFfIHP"
      }
    },
    {
      "cell_type": "code",
      "source": [
        "def stream_graph_updates(user_input: str):\n",
        "  for event in graph.stream({\"messages\": [(\"user\", user_input)]}):\n",
        "    for value in event.values():\n",
        "      print(\"Assistant:\", value[\"messages\"][-1].content)\n",
        "\n",
        "while True:\n",
        "  user_input = input(\"User: \")\n",
        "  if user_input.lower() in ['quit', 'exit', 'q']:\n",
        "    print(\"Goodbye!\")\n",
        "    break\n",
        "  stream_graph_updates(user_input)"
      ],
      "metadata": {
        "colab": {
          "base_uri": "https://localhost:8080/"
        },
        "id": "6HidPLzOfKyz",
        "outputId": "bf4076cf-65a6-4d09-8e4b-495a2796c977"
      },
      "execution_count": 12,
      "outputs": [
        {
          "output_type": "stream",
          "name": "stdout",
          "text": [
            "User: Hi, tell me about Ratan Tata\n",
            "Assistant: Ratan Tata is a renowned Indian business magnate, philanthropist, and former chairman of the Tata Group, one of India's largest and most respected conglomerates. Here's a brief overview of his life and achievements:\n",
            "\n",
            "**Early Life and Education**\n",
            "\n",
            "Ratan Naval Tata was born on December 28, 1937, in Surat, Gujarat, India. He is the second son of Naval Tata, a member of the Tata family, who was a successful businessman and a member of the Tata Group. Ratan Tata's great-grandfather, Jamsetji Tata, founded the Tata Group in 1868.\n",
            "\n",
            "Ratan Tata received his education at the Cathedral and John Connon School in Mumbai and later at the Cornell University in the United States, where he earned a degree in architecture.\n",
            "\n",
            "**Career**\n",
            "\n",
            "Ratan Tata joined the Tata Group in 1962 and worked in various roles, including as a management trainee, a production manager, and a marketing manager. In 1991, he became the chairman of Tata Sons, the holding company of the Tata Group, succeeding his great-uncle, J.R.D. Tata.\n",
            "\n",
            "Under Ratan Tata's leadership, the Tata Group expanded its operations globally, diversified its businesses, and invested in various sectors, including automotive, hospitality, information technology, and consumer products. Some notable achievements during his tenure include:\n",
            "\n",
            "1. **Tata Motors**: Ratan Tata played a crucial role in transforming Tata Motors into a global automotive company, with the acquisition of Jaguar and Land Rover in 2008.\n",
            "2. **Tata Steel**: He led the Tata Group's acquisition of Corus Group, a British steel company, in 2007, making Tata Steel one of the world's largest steel producers.\n",
            "3. **Tata Consultancy Services (TCS)**: Ratan Tata oversaw the growth of TCS into one of the world's largest IT services companies.\n",
            "4. **Tata Housing**: He launched Tata Housing, a real estate development company, which has become one of the largest in India.\n",
            "\n",
            "**Philanthropy**\n",
            "\n",
            "Ratan Tata is known for his philanthropic efforts, particularly in the areas of education, healthcare, and rural development. Some notable initiatives include:\n",
            "\n",
            "1. **Tata Trusts**: He has been instrumental in setting up the Tata Trusts, a charitable organization that focuses on education, healthcare, and rural development.\n",
            "2. **Tata Memorial Centre**: Ratan Tata has supported the Tata Memorial Centre, a cancer hospital in Mumbai, which provides free medical care to patients.\n",
            "3. **Tata Institute of Fundamental Research (TIFR)**: He has contributed to the establishment of TIFR, a research institute that focuses on basic sciences and technology.\n",
            "\n",
            "**Awards and Recognition**\n",
            "\n",
            "Ratan Tata has received numerous awards and honors for his contributions to business, philanthropy, and society. Some notable awards include:\n",
            "\n",
            "1. **Padma Vibhushan**: He was awarded the Padma Vibhushan, India's second-highest civilian honor, in 2008.\n",
            "2. **Knight Commander of the Order of the British Empire**: Ratan Tata was knighted by Queen Elizabeth II in 2009 for his services to British business and philanthropy.\n",
            "3. **Time 100**: He was named one of Time magazine's 100 most influential people in the world in 2010.\n",
            "\n",
            "**Personal Life**\n",
            "\n",
            "Ratan Tata is married to his second wife, Simone Tata, a French national. He has two children from his first marriage, Ratanina and Noel.\n",
            "User: quit\n",
            "Goodbye!\n"
          ]
        }
      ]
    },
    {
      "cell_type": "markdown",
      "source": [
        "# Enhancing the Chatbot with Tools\n",
        "----------------------------------\n",
        "### We will integrate a web serach tool. Out bot can use this tool to find the relevant information"
      ],
      "metadata": {
        "id": "TrR6gQJgiEKO"
      }
    },
    {
      "cell_type": "code",
      "source": [
        "%pip install -qU duckduckgo-search langchain-community"
      ],
      "metadata": {
        "colab": {
          "base_uri": "https://localhost:8080/"
        },
        "id": "wHDG8d-1isvR",
        "outputId": "12e5fffc-5db8-4f09-ee7e-0f7d6cc29eca"
      },
      "execution_count": 13,
      "outputs": [
        {
          "output_type": "stream",
          "name": "stdout",
          "text": [
            "\u001b[?25l   \u001b[90m━━━━━━━━━━━━━━━━━━━━━━━━━━━━━━━━━━━━━━━━\u001b[0m \u001b[32m0.0/2.4 MB\u001b[0m \u001b[31m?\u001b[0m eta \u001b[36m-:--:--\u001b[0m\r\u001b[2K   \u001b[91m━━━━━━━━━━━━━━━━━━━━━━━━━━━━━━━━━━━━━━\u001b[0m\u001b[90m╺\u001b[0m\u001b[90m━\u001b[0m \u001b[32m2.3/2.4 MB\u001b[0m \u001b[31m68.9 MB/s\u001b[0m eta \u001b[36m0:00:01\u001b[0m\r\u001b[2K   \u001b[90m━━━━━━━━━━━━━━━━━━━━━━━━━━━━━━━━━━━━━━━━\u001b[0m \u001b[32m2.4/2.4 MB\u001b[0m \u001b[31m40.6 MB/s\u001b[0m eta \u001b[36m0:00:00\u001b[0m\n",
            "\u001b[?25h\u001b[?25l   \u001b[90m━━━━━━━━━━━━━━━━━━━━━━━━━━━━━━━━━━━━━━━━\u001b[0m \u001b[32m0.0/3.0 MB\u001b[0m \u001b[31m?\u001b[0m eta \u001b[36m-:--:--\u001b[0m\r\u001b[2K   \u001b[91m━━━━━━━━━━━━━━━━━━━━━━━━━━━━━━━━━━━━━━━\u001b[0m\u001b[91m╸\u001b[0m \u001b[32m3.0/3.0 MB\u001b[0m \u001b[31m125.3 MB/s\u001b[0m eta \u001b[36m0:00:01\u001b[0m\r\u001b[2K   \u001b[90m━━━━━━━━━━━━━━━━━━━━━━━━━━━━━━━━━━━━━━━━\u001b[0m \u001b[32m3.0/3.0 MB\u001b[0m \u001b[31m60.7 MB/s\u001b[0m eta \u001b[36m0:00:00\u001b[0m\n",
            "\u001b[?25h\u001b[?25l   \u001b[90m━━━━━━━━━━━━━━━━━━━━━━━━━━━━━━━━━━━━━━━━\u001b[0m \u001b[32m0.0/49.5 kB\u001b[0m \u001b[31m?\u001b[0m eta \u001b[36m-:--:--\u001b[0m\r\u001b[2K   \u001b[90m━━━━━━━━━━━━━━━━━━━━━━━━━━━━━━━━━━━━━━━━\u001b[0m \u001b[32m49.5/49.5 kB\u001b[0m \u001b[31m3.3 MB/s\u001b[0m eta \u001b[36m0:00:00\u001b[0m\n",
            "\u001b[?25h"
          ]
        }
      ]
    },
    {
      "cell_type": "code",
      "source": [
        "from langchain_community.utilities import DuckDuckGoSearchAPIWrapper\n",
        "from langchain_community.tools import DuckDuckGoSearchResults\n",
        "\n",
        "wrapper = DuckDuckGoSearchAPIWrapper(max_results=2)\n",
        "\n",
        "search = DuckDuckGoSearchResults(api_wrapper=wrapper, source=\"news\")\n",
        "\n",
        "search.invoke(\"Ratan Tata\")"
      ],
      "metadata": {
        "colab": {
          "base_uri": "https://localhost:8080/",
          "height": 143
        },
        "id": "ekrqLyX4i4hc",
        "outputId": "6cde25b8-52d1-468e-c979-0ecc7bcd5acf"
      },
      "execution_count": 18,
      "outputs": [
        {
          "output_type": "execute_result",
          "data": {
            "text/plain": [
              "'snippet: Ratan Tata, who has died aged 86, was one of India\\'s most internationally recognised business leaders. The tycoon led the Tata Group - known as a \"salt-to-software\" conglomerate of more than 100 ..., title: Ratan Tata: The \\'modest\\' Indian tycoon who died at 86 - BBC, link: https://www.bbc.com/news/articles/cd11lz4vpr7o, snippet: Ratan Tata, the businessman who inherited one of India\\'s oldest conglomerates and transformed it through a string of eye-catching deals into a global empire, has died. He was 86., title: Ratan Tata, Who Grew India\\'s Tata Group Into Global Empire, Dies at 86 ..., link: https://www.bloomberg.com/news/articles/2024-10-09/ratan-tata-patriarch-of-biggest-indian-conglomerate-dies-at-86, snippet: Ratan Tata, who was one of India\\'s best known businesspeople and led his family conglomerate on a bold international expansion, has died aged 86., title: Ratan Tata, leading Indian businessman, 1937-2024 - Financial Times, link: https://www.ft.com/content/5a405ffe-e9ef-4ebf-9203-ce2283f6d203, snippet: Ratan Tata, the former chairman of Indian conglomerate Tata Group, has died at the age of 86, according to a statement from the firm. The industrialist rose to global prominence with a series of ..., title: Ratan Tata, Indian tycoon who took his empire global, dead at 86, link: https://www.cnn.com/2024/10/09/business/ratan-tata-death/index.html'"
            ],
            "application/vnd.google.colaboratory.intrinsic+json": {
              "type": "string"
            }
          },
          "metadata": {},
          "execution_count": 18
        }
      ]
    },
    {
      "cell_type": "markdown",
      "source": [
        "### integrate this search tool with our chatbot"
      ],
      "metadata": {
        "id": "RQNQD1YLju5K"
      }
    },
    {
      "cell_type": "code",
      "source": [
        "from typing import Annotated\n",
        "from typing_extensions import TypedDict\n",
        "\n",
        "from langgraph.graph import StateGraph, START, END\n",
        "from langgraph.graph.message import add_messages\n",
        "\n",
        "from langchain_fireworks import ChatFireworks\n",
        "\n",
        "from langchain_community.utilities import DuckDuckGoSearchAPIWrapper\n",
        "from langchain_community.tools import DuckDuckGoSearchResults\n",
        "from langgraph.prebuilt import ToolNode, tools_condition\n",
        "\n",
        "# State Graph\n",
        "class State(TypedDict):\n",
        "  messages: Annotated[list, add_messages]\n",
        "\n",
        "graph_builder = StateGraph(State)\n",
        "\n",
        "\n",
        "# My Search Tool\n",
        "wrapper = DuckDuckGoSearchAPIWrapper(max_results=2)\n",
        "\n",
        "tool = DuckDuckGoSearchResults(api_wrapper=wrapper, source=\"news\")\n",
        "tools = [tool]\n",
        "\n",
        "# Chatbot node\n",
        "llm = ChatFireworks(model='accounts/fireworks/models/llama-v3p1-8b-instruct')\n",
        "llm_with_tool = llm.bind_tools(tools)\n",
        "\n",
        "def chatbot(state: State):\n",
        "  return {'messages': [llm_with_tool.invoke(state[\"messages\"])]}\n",
        "\n",
        "graph_builder.add_node('chatbot', chatbot)\n",
        "\n",
        "# Tool node\n",
        "tool_node = ToolNode(tools=[tool])\n",
        "graph_builder.add_node(\"tools\", tool_node)\n",
        "\n",
        "graph_builder.add_conditional_edges(\n",
        "    \"chatbot\",\n",
        "    tools_condition,\n",
        ")\n",
        "\n",
        "graph_builder.add_edge(\"tools\", \"chatbot\")\n",
        "graph_builder.set_entry_point(\"chatbot\")\n",
        "graph = graph_builder.compile()"
      ],
      "metadata": {
        "id": "do6uH8ynjt1L"
      },
      "execution_count": 26,
      "outputs": []
    },
    {
      "cell_type": "code",
      "source": [
        "from IPython.display import Image, display\n",
        "\n",
        "try:\n",
        "  display(Image(graph.get_graph().draw_mermaid_png()))\n",
        "except Exception:\n",
        "  pass"
      ],
      "metadata": {
        "colab": {
          "base_uri": "https://localhost:8080/",
          "height": 266
        },
        "id": "urcWRffKlxqJ",
        "outputId": "1e8c1153-f332-41e9-fb7a-924de7b41f34"
      },
      "execution_count": 27,
      "outputs": [
        {
          "output_type": "display_data",
          "data": {
            "image/jpeg": "[encoded data removed]",
            "text/plain": [
              "<IPython.core.display.Image object>"
            ]
          },
          "metadata": {}
        }
      ]
    },
    {
      "cell_type": "code",
      "source": [
        "while True:\n",
        "  user_input = input(\"User: \")\n",
        "  if user_input.lower() in ['quit', 'exit', 'q']:\n",
        "    print(\"Goodbye!\")\n",
        "    break\n",
        "  stream_graph_updates(user_input)"
      ],
      "metadata": {
        "colab": {
          "base_uri": "https://localhost:8080/"
        },
        "id": "lKSBqwsml96w",
        "outputId": "775b39e9-9cf9-4e33-a067-098c738168cb"
      },
      "execution_count": 28,
      "outputs": [
        {
          "output_type": "stream",
          "name": "stdout",
          "text": [
            "User: What's the current time in Delhi?\n",
            "Assistant: However, I'm a large language model, I don't have real-time access to the current time. But I can suggest a few options to help you find out the current time in Delhi:\n",
            "\n",
            "1. **Check online world clocks**: You can search for \"current time in Delhi\" on a search engine like Google, and it will show you the current time in Delhi along with other cities around the world.\n",
            "2. **Use a world clock website**: Websites like WorldTimeBuddy or TimeAndDate provide a world clock that shows the current time in various cities, including Delhi.\n",
            "3. **Check your phone or computer**: If you have a smartphone or a computer, you can check the current time in Delhi by searching for \"current time in Delhi\" or by using a world clock app.\n",
            "\n",
            "Please note that Delhi is in the Indian Standard Time (IST) zone, which is UTC+5:30.\n",
            "User: quit\n",
            "Goodbye!\n"
          ]
        }
      ]
    },
    {
      "cell_type": "markdown",
      "source": [
        "# Adding memory to the chatbot"
      ],
      "metadata": {
        "id": "XPoqM2CFsAey"
      }
    },
    {
      "cell_type": "code",
      "source": [
        "from langgraph.checkpoint.memory import MemorySaver\n",
        "memory = MemorySaver()"
      ],
      "metadata": {
        "id": "N4FqGGw_s_e0"
      },
      "execution_count": 31,
      "outputs": []
    },
    {
      "cell_type": "code",
      "source": [
        "from typing import Annotated\n",
        "from typing_extensions import TypedDict\n",
        "\n",
        "from langgraph.graph import StateGraph, START, END\n",
        "from langgraph.graph.message import add_messages\n",
        "\n",
        "from langchain_fireworks import ChatFireworks\n",
        "\n",
        "from langchain_community.utilities import DuckDuckGoSearchAPIWrapper\n",
        "from langchain_community.tools import DuckDuckGoSearchResults\n",
        "from langgraph.prebuilt import ToolNode, tools_condition\n",
        "\n",
        "# State Graph\n",
        "class State(TypedDict):\n",
        "  messages: Annotated[list, add_messages]\n",
        "\n",
        "graph_builder = StateGraph(State)\n",
        "\n",
        "\n",
        "# My Search Tool\n",
        "wrapper = DuckDuckGoSearchAPIWrapper(max_results=2)\n",
        "\n",
        "tool = DuckDuckGoSearchResults(api_wrapper=wrapper, source=\"news\")\n",
        "tools = [tool]\n",
        "\n",
        "# Chatbot node\n",
        "llm = ChatFireworks(model='accounts/fireworks/models/llama-v3p1-8b-instruct')\n",
        "llm_with_tool = llm.bind_tools(tools)\n",
        "\n",
        "def chatbot(state: State):\n",
        "  return {'messages': [llm_with_tool.invoke(state[\"messages\"])]}\n",
        "\n",
        "graph_builder.add_node('chatbot', chatbot)\n",
        "\n",
        "# Tool node\n",
        "tool_node = ToolNode(tools=[tool])\n",
        "graph_builder.add_node(\"tools\", tool_node)\n",
        "\n",
        "graph_builder.add_conditional_edges(\n",
        "    \"chatbot\",\n",
        "    tools_condition,\n",
        ")\n",
        "\n",
        "graph_builder.add_edge(\"tools\", \"chatbot\")\n",
        "graph_builder.set_entry_point(\"chatbot\")\n"
      ],
      "metadata": {
        "colab": {
          "base_uri": "https://localhost:8080/"
        },
        "id": "NU5FTvDxsRe8",
        "outputId": "f0b1ebdb-1e42-4005-bdef-4f9514b8f599"
      },
      "execution_count": 32,
      "outputs": [
        {
          "output_type": "execute_result",
          "data": {
            "text/plain": [
              "<langgraph.graph.state.StateGraph at 0x7d86f63fa5c0>"
            ]
          },
          "metadata": {},
          "execution_count": 32
        }
      ]
    },
    {
      "cell_type": "markdown",
      "source": [
        "### Finally, compile the graph with the provided checkpoint"
      ],
      "metadata": {
        "id": "NS8YQj1YscX-"
      }
    },
    {
      "cell_type": "code",
      "source": [
        "graph = graph_builder.compile(checkpointer=memory)"
      ],
      "metadata": {
        "id": "2nkM7Wc5shid"
      },
      "execution_count": 34,
      "outputs": []
    },
    {
      "cell_type": "code",
      "source": [
        "from IPython.display import Image, display\n",
        "\n",
        "try:\n",
        "  display(Image(graph.get_graph().draw_mermaid_png()))\n",
        "except Exception:\n",
        "  pass"
      ],
      "metadata": {
        "colab": {
          "base_uri": "https://localhost:8080/",
          "height": 266
        },
        "id": "WrvsK3COtfxw",
        "outputId": "1539d6c0-a5f7-4410-90e3-92201e607c68"
      },
      "execution_count": 35,
      "outputs": [
        {
          "output_type": "display_data",
          "data": {
            "image/jpeg": "[encoded data removed]",
            "text/plain": [
              "<IPython.core.display.Image object>"
            ]
          },
          "metadata": {}
        }
      ]
    },
    {
      "cell_type": "markdown",
      "source": [
        "### Let's pick up a thread to use it as a key for this conversation"
      ],
      "metadata": {
        "id": "cZ-bmS7rtk5G"
      }
    },
    {
      "cell_type": "code",
      "source": [
        "config = {'configurable': {'thread_id': \"1\"}}"
      ],
      "metadata": {
        "id": "vcysp5GPtujw"
      },
      "execution_count": 36,
      "outputs": []
    },
    {
      "cell_type": "code",
      "source": [
        "user_input = \"Hi, there! My name is Amit Arjun.\"\n",
        "\n",
        "events = graph.stream(\n",
        "    {'messages': [(\"user\", user_input)]},\n",
        "    config,\n",
        "    stream_mode=\"values\"\n",
        ")\n",
        "for event in events:\n",
        "  event['messages'][-1].pretty_print()"
      ],
      "metadata": {
        "colab": {
          "base_uri": "https://localhost:8080/"
        },
        "id": "k6rVTSglt1IV",
        "outputId": "587514e4-8639-4765-ce64-16d0cfa7148e"
      },
      "execution_count": 38,
      "outputs": [
        {
          "output_type": "stream",
          "name": "stdout",
          "text": [
            "================================\u001b[1m Human Message \u001b[0m=================================\n",
            "\n",
            "Hi, there! My name is Amit Arjun.\n",
            "==================================\u001b[1m Ai Message \u001b[0m==================================\n",
            "\n",
            "Nice to meet you, Amit Arjun! It's great to have you here. Is there something I can help you with or would you like to chat?\n"
          ]
        }
      ]
    },
    {
      "cell_type": "markdown",
      "source": [
        "### Let's resume this convo with the same id"
      ],
      "metadata": {
        "id": "NIbX21zBum4i"
      }
    },
    {
      "cell_type": "code",
      "source": [
        "user_input = \"Hi, there! Remenber my name\"\n",
        "\n",
        "events = graph.stream(\n",
        "    {'messages': [(\"user\", user_input)]},\n",
        "    config,\n",
        "    stream_mode=\"values\"\n",
        ")\n",
        "for event in events:\n",
        "  event['messages'][-1].pretty_print()"
      ],
      "metadata": {
        "colab": {
          "base_uri": "https://localhost:8080/"
        },
        "id": "NIEcYkirusaH",
        "outputId": "adeb69dc-1eaf-4a1a-9db6-e3a141ef0a91"
      },
      "execution_count": 39,
      "outputs": [
        {
          "output_type": "stream",
          "name": "stdout",
          "text": [
            "================================\u001b[1m Human Message \u001b[0m=================================\n",
            "\n",
            "Hi, there! Remenber my name\n",
            "==================================\u001b[1m Ai Message \u001b[0m==================================\n",
            "\n",
            "I remember, your name is Amit Arjun! How can I assist you today, Amit?\n"
          ]
        }
      ]
    },
    {
      "cell_type": "code",
      "source": [
        "user_input = \"Hi, there! Remember my name\"\n",
        "\n",
        "events = graph.stream(\n",
        "    {'messages': [(\"user\", user_input)]},\n",
        "    {'configurable': {'thread_id': \"1\"}},\n",
        "    stream_mode=\"values\"\n",
        ")\n",
        "for event in events:\n",
        "  event['messages'][-1].pretty_print()"
      ],
      "metadata": {
        "colab": {
          "base_uri": "https://localhost:8080/"
        },
        "id": "F89hmJATvCxu",
        "outputId": "51f9022e-2312-481c-fcae-75e40e267e1d"
      },
      "execution_count": 41,
      "outputs": [
        {
          "output_type": "stream",
          "name": "stdout",
          "text": [
            "================================\u001b[1m Human Message \u001b[0m=================================\n",
            "\n",
            "Hi, there! Remember my name\n",
            "==================================\u001b[1m Ai Message \u001b[0m==================================\n",
            "\n",
            "I remember, your name is Amit Arjun! I've got it stored in my memory. What's on your mind today, Amit?\n"
          ]
        }
      ]
    }
  ]
}