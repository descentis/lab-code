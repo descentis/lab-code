{
  "nbformat": 4,
  "nbformat_minor": 0,
  "metadata": {
    "colab": {
      "provenance": []
    },
    "kernelspec": {
      "name": "python3",
      "display_name": "Python 3"
    },
    "language_info": {
      "name": "python"
    }
  },
  "cells": [
    {
      "cell_type": "code",
      "source": [
        "!pip install -U langchain langgraph langsmith langchain-fireworks"
      ],
      "metadata": {
        "colab": {
          "base_uri": "https://localhost:8080/"
        },
        "id": "2AXUZnJhQd2Z",
        "outputId": "0b201230-ec67-499b-e071-5f123a8de230"
      },
      "execution_count": 1,
      "outputs": [
        {
          "output_type": "stream",
          "name": "stdout",
          "text": [
            "Collecting langchain\n",
            "  Downloading langchain-0.3.4-py3-none-any.whl.metadata (7.1 kB)\n",
            "Collecting langgraph\n",
            "  Downloading langgraph-0.2.39-py3-none-any.whl.metadata (13 kB)\n",
            "Collecting langsmith\n",
            "  Downloading langsmith-0.1.136-py3-none-any.whl.metadata (13 kB)\n",
            "Collecting langchain-fireworks\n",
            "  Downloading langchain_fireworks-0.2.1-py3-none-any.whl.metadata (4.0 kB)\n",
            "Requirement already satisfied: PyYAML>=5.3 in /usr/local/lib/python3.10/dist-packages (from langchain) (6.0.2)\n",
            "Requirement already satisfied: SQLAlchemy<3,>=1.4 in /usr/local/lib/python3.10/dist-packages (from langchain) (2.0.36)\n",
            "Requirement already satisfied: aiohttp<4.0.0,>=3.8.3 in /usr/local/lib/python3.10/dist-packages (from langchain) (3.10.10)\n",
            "Requirement already satisfied: async-timeout<5.0.0,>=4.0.0 in /usr/local/lib/python3.10/dist-packages (from langchain) (4.0.3)\n",
            "Collecting langchain-core<0.4.0,>=0.3.12 (from langchain)\n",
            "  Downloading langchain_core-0.3.12-py3-none-any.whl.metadata (6.3 kB)\n",
            "Collecting langchain-text-splitters<0.4.0,>=0.3.0 (from langchain)\n",
            "  Downloading langchain_text_splitters-0.3.0-py3-none-any.whl.metadata (2.3 kB)\n",
            "Requirement already satisfied: numpy<2,>=1 in /usr/local/lib/python3.10/dist-packages (from langchain) (1.26.4)\n",
            "Requirement already satisfied: pydantic<3.0.0,>=2.7.4 in /usr/local/lib/python3.10/dist-packages (from langchain) (2.9.2)\n",
            "Requirement already satisfied: requests<3,>=2 in /usr/local/lib/python3.10/dist-packages (from langchain) (2.32.3)\n",
            "Requirement already satisfied: tenacity!=8.4.0,<10,>=8.1.0 in /usr/local/lib/python3.10/dist-packages (from langchain) (9.0.0)\n",
            "Collecting langgraph-checkpoint<3.0.0,>=2.0.0 (from langgraph)\n",
            "  Downloading langgraph_checkpoint-2.0.1-py3-none-any.whl.metadata (4.6 kB)\n",
            "Collecting langgraph-sdk<0.2.0,>=0.1.32 (from langgraph)\n",
            "  Downloading langgraph_sdk-0.1.33-py3-none-any.whl.metadata (1.8 kB)\n",
            "Collecting httpx<1,>=0.23.0 (from langsmith)\n",
            "  Downloading httpx-0.27.2-py3-none-any.whl.metadata (7.1 kB)\n",
            "Collecting orjson<4.0.0,>=3.9.14 (from langsmith)\n",
            "  Downloading orjson-3.10.9-cp310-cp310-manylinux_2_17_x86_64.manylinux2014_x86_64.whl.metadata (50 kB)\n",
            "\u001b[2K     \u001b[90m━━━━━━━━━━━━━━━━━━━━━━━━━━━━━━━━━━━━━━━━\u001b[0m \u001b[32m50.6/50.6 kB\u001b[0m \u001b[31m2.7 MB/s\u001b[0m eta \u001b[36m0:00:00\u001b[0m\n",
            "\u001b[?25hCollecting requests-toolbelt<2.0.0,>=1.0.0 (from langsmith)\n",
            "  Downloading requests_toolbelt-1.0.0-py2.py3-none-any.whl.metadata (14 kB)\n",
            "Collecting fireworks-ai>=0.13.0 (from langchain-fireworks)\n",
            "  Downloading fireworks_ai-0.15.7-py3-none-any.whl.metadata (5.6 kB)\n",
            "Collecting openai<2.0.0,>=1.10.0 (from langchain-fireworks)\n",
            "  Downloading openai-1.52.0-py3-none-any.whl.metadata (24 kB)\n",
            "Requirement already satisfied: aiohappyeyeballs>=2.3.0 in /usr/local/lib/python3.10/dist-packages (from aiohttp<4.0.0,>=3.8.3->langchain) (2.4.3)\n",
            "Requirement already satisfied: aiosignal>=1.1.2 in /usr/local/lib/python3.10/dist-packages (from aiohttp<4.0.0,>=3.8.3->langchain) (1.3.1)\n",
            "Requirement already satisfied: attrs>=17.3.0 in /usr/local/lib/python3.10/dist-packages (from aiohttp<4.0.0,>=3.8.3->langchain) (24.2.0)\n",
            "Requirement already satisfied: frozenlist>=1.1.1 in /usr/local/lib/python3.10/dist-packages (from aiohttp<4.0.0,>=3.8.3->langchain) (1.4.1)\n",
            "Requirement already satisfied: multidict<7.0,>=4.5 in /usr/local/lib/python3.10/dist-packages (from aiohttp<4.0.0,>=3.8.3->langchain) (6.1.0)\n",
            "Requirement already satisfied: yarl<2.0,>=1.12.0 in /usr/local/lib/python3.10/dist-packages (from aiohttp<4.0.0,>=3.8.3->langchain) (1.15.4)\n",
            "Collecting httpx-ws (from fireworks-ai>=0.13.0->langchain-fireworks)\n",
            "  Downloading httpx_ws-0.6.2-py3-none-any.whl.metadata (8.8 kB)\n",
            "Collecting httpx-sse (from fireworks-ai>=0.13.0->langchain-fireworks)\n",
            "  Downloading httpx_sse-0.4.0-py3-none-any.whl.metadata (9.0 kB)\n",
            "Requirement already satisfied: Pillow in /usr/local/lib/python3.10/dist-packages (from fireworks-ai>=0.13.0->langchain-fireworks) (10.4.0)\n",
            "Requirement already satisfied: anyio in /usr/local/lib/python3.10/dist-packages (from httpx<1,>=0.23.0->langsmith) (3.7.1)\n",
            "Requirement already satisfied: certifi in /usr/local/lib/python3.10/dist-packages (from httpx<1,>=0.23.0->langsmith) (2024.8.30)\n",
            "Collecting httpcore==1.* (from httpx<1,>=0.23.0->langsmith)\n",
            "  Downloading httpcore-1.0.6-py3-none-any.whl.metadata (21 kB)\n",
            "Requirement already satisfied: idna in /usr/local/lib/python3.10/dist-packages (from httpx<1,>=0.23.0->langsmith) (3.10)\n",
            "Requirement already satisfied: sniffio in /usr/local/lib/python3.10/dist-packages (from httpx<1,>=0.23.0->langsmith) (1.3.1)\n",
            "Collecting h11<0.15,>=0.13 (from httpcore==1.*->httpx<1,>=0.23.0->langsmith)\n",
            "  Downloading h11-0.14.0-py3-none-any.whl.metadata (8.2 kB)\n",
            "Collecting jsonpatch<2.0,>=1.33 (from langchain-core<0.4.0,>=0.3.12->langchain)\n",
            "  Downloading jsonpatch-1.33-py2.py3-none-any.whl.metadata (3.0 kB)\n",
            "Requirement already satisfied: packaging<25,>=23.2 in /usr/local/lib/python3.10/dist-packages (from langchain-core<0.4.0,>=0.3.12->langchain) (24.1)\n",
            "Requirement already satisfied: typing-extensions>=4.7 in /usr/local/lib/python3.10/dist-packages (from langchain-core<0.4.0,>=0.3.12->langchain) (4.12.2)\n",
            "Requirement already satisfied: msgpack<2.0.0,>=1.1.0 in /usr/local/lib/python3.10/dist-packages (from langgraph-checkpoint<3.0.0,>=2.0.0->langgraph) (1.1.0)\n",
            "Requirement already satisfied: distro<2,>=1.7.0 in /usr/lib/python3/dist-packages (from openai<2.0.0,>=1.10.0->langchain-fireworks) (1.7.0)\n",
            "Collecting jiter<1,>=0.4.0 (from openai<2.0.0,>=1.10.0->langchain-fireworks)\n",
            "  Downloading jiter-0.6.1-cp310-cp310-manylinux_2_17_x86_64.manylinux2014_x86_64.whl.metadata (5.2 kB)\n",
            "Requirement already satisfied: tqdm>4 in /usr/local/lib/python3.10/dist-packages (from openai<2.0.0,>=1.10.0->langchain-fireworks) (4.66.5)\n",
            "Requirement already satisfied: annotated-types>=0.6.0 in /usr/local/lib/python3.10/dist-packages (from pydantic<3.0.0,>=2.7.4->langchain) (0.7.0)\n",
            "Requirement already satisfied: pydantic-core==2.23.4 in /usr/local/lib/python3.10/dist-packages (from pydantic<3.0.0,>=2.7.4->langchain) (2.23.4)\n",
            "Requirement already satisfied: charset-normalizer<4,>=2 in /usr/local/lib/python3.10/dist-packages (from requests<3,>=2->langchain) (3.4.0)\n",
            "Requirement already satisfied: urllib3<3,>=1.21.1 in /usr/local/lib/python3.10/dist-packages (from requests<3,>=2->langchain) (2.2.3)\n",
            "Requirement already satisfied: greenlet!=0.4.17 in /usr/local/lib/python3.10/dist-packages (from SQLAlchemy<3,>=1.4->langchain) (3.1.1)\n",
            "Requirement already satisfied: exceptiongroup in /usr/local/lib/python3.10/dist-packages (from anyio->httpx<1,>=0.23.0->langsmith) (1.2.2)\n",
            "Collecting jsonpointer>=1.9 (from jsonpatch<2.0,>=1.33->langchain-core<0.4.0,>=0.3.12->langchain)\n",
            "  Downloading jsonpointer-3.0.0-py2.py3-none-any.whl.metadata (2.3 kB)\n",
            "Requirement already satisfied: propcache>=0.2.0 in /usr/local/lib/python3.10/dist-packages (from yarl<2.0,>=1.12.0->aiohttp<4.0.0,>=3.8.3->langchain) (0.2.0)\n",
            "Collecting anyio (from httpx<1,>=0.23.0->langsmith)\n",
            "  Downloading anyio-4.6.2.post1-py3-none-any.whl.metadata (4.7 kB)\n",
            "Collecting wsproto (from httpx-ws->fireworks-ai>=0.13.0->langchain-fireworks)\n",
            "  Downloading wsproto-1.2.0-py3-none-any.whl.metadata (5.6 kB)\n",
            "Downloading langchain-0.3.4-py3-none-any.whl (1.0 MB)\n",
            "\u001b[2K   \u001b[90m━━━━━━━━━━━━━━━━━━━━━━━━━━━━━━━━━━━━━━━━\u001b[0m \u001b[32m1.0/1.0 MB\u001b[0m \u001b[31m19.0 MB/s\u001b[0m eta \u001b[36m0:00:00\u001b[0m\n",
            "\u001b[?25hDownloading langgraph-0.2.39-py3-none-any.whl (113 kB)\n",
            "\u001b[2K   \u001b[90m━━━━━━━━━━━━━━━━━━━━━━━━━━━━━━━━━━━━━━━━\u001b[0m \u001b[32m113.5/113.5 kB\u001b[0m \u001b[31m8.4 MB/s\u001b[0m eta \u001b[36m0:00:00\u001b[0m\n",
            "\u001b[?25hDownloading langsmith-0.1.136-py3-none-any.whl (296 kB)\n",
            "\u001b[2K   \u001b[90m━━━━━━━━━━━━━━━━━━━━━━━━━━━━━━━━━━━━━━━━\u001b[0m \u001b[32m296.7/296.7 kB\u001b[0m \u001b[31m13.2 MB/s\u001b[0m eta \u001b[36m0:00:00\u001b[0m\n",
            "\u001b[?25hDownloading langchain_fireworks-0.2.1-py3-none-any.whl (17 kB)\n",
            "Downloading fireworks_ai-0.15.7-py3-none-any.whl (109 kB)\n",
            "\u001b[2K   \u001b[90m━━━━━━━━━━━━━━━━━━━━━━━━━━━━━━━━━━━━━━━━\u001b[0m \u001b[32m109.9/109.9 kB\u001b[0m \u001b[31m7.4 MB/s\u001b[0m eta \u001b[36m0:00:00\u001b[0m\n",
            "\u001b[?25hDownloading httpx-0.27.2-py3-none-any.whl (76 kB)\n",
            "\u001b[2K   \u001b[90m━━━━━━━━━━━━━━━━━━━━━━━━━━━━━━━━━━━━━━━━\u001b[0m \u001b[32m76.4/76.4 kB\u001b[0m \u001b[31m5.4 MB/s\u001b[0m eta \u001b[36m0:00:00\u001b[0m\n",
            "\u001b[?25hDownloading httpcore-1.0.6-py3-none-any.whl (78 kB)\n",
            "\u001b[2K   \u001b[90m━━━━━━━━━━━━━━━━━━━━━━━━━━━━━━━━━━━━━━━━\u001b[0m \u001b[32m78.0/78.0 kB\u001b[0m \u001b[31m5.6 MB/s\u001b[0m eta \u001b[36m0:00:00\u001b[0m\n",
            "\u001b[?25hDownloading langchain_core-0.3.12-py3-none-any.whl (407 kB)\n",
            "\u001b[2K   \u001b[90m━━━━━━━━━━━━━━━━━━━━━━━━━━━━━━━━━━━━━━━━\u001b[0m \u001b[32m407.7/407.7 kB\u001b[0m \u001b[31m22.9 MB/s\u001b[0m eta \u001b[36m0:00:00\u001b[0m\n",
            "\u001b[?25hDownloading langchain_text_splitters-0.3.0-py3-none-any.whl (25 kB)\n",
            "Downloading langgraph_checkpoint-2.0.1-py3-none-any.whl (22 kB)\n",
            "Downloading langgraph_sdk-0.1.33-py3-none-any.whl (28 kB)\n",
            "Downloading openai-1.52.0-py3-none-any.whl (386 kB)\n",
            "\u001b[2K   \u001b[90m━━━━━━━━━━━━━━━━━━━━━━━━━━━━━━━━━━━━━━━━\u001b[0m \u001b[32m386.9/386.9 kB\u001b[0m \u001b[31m21.6 MB/s\u001b[0m eta \u001b[36m0:00:00\u001b[0m\n",
            "\u001b[?25hDownloading orjson-3.10.9-cp310-cp310-manylinux_2_17_x86_64.manylinux2014_x86_64.whl (144 kB)\n",
            "\u001b[2K   \u001b[90m━━━━━━━━━━━━━━━━━━━━━━━━━━━━━━━━━━━━━━━━\u001b[0m \u001b[32m144.5/144.5 kB\u001b[0m \u001b[31m10.1 MB/s\u001b[0m eta \u001b[36m0:00:00\u001b[0m\n",
            "\u001b[?25hDownloading requests_toolbelt-1.0.0-py2.py3-none-any.whl (54 kB)\n",
            "\u001b[2K   \u001b[90m━━━━━━━━━━━━━━━━━━━━━━━━━━━━━━━━━━━━━━━━\u001b[0m \u001b[32m54.5/54.5 kB\u001b[0m \u001b[31m3.7 MB/s\u001b[0m eta \u001b[36m0:00:00\u001b[0m\n",
            "\u001b[?25hDownloading httpx_sse-0.4.0-py3-none-any.whl (7.8 kB)\n",
            "Downloading jiter-0.6.1-cp310-cp310-manylinux_2_17_x86_64.manylinux2014_x86_64.whl (325 kB)\n",
            "\u001b[2K   \u001b[90m━━━━━━━━━━━━━━━━━━━━━━━━━━━━━━━━━━━━━━━━\u001b[0m \u001b[32m325.2/325.2 kB\u001b[0m \u001b[31m17.5 MB/s\u001b[0m eta \u001b[36m0:00:00\u001b[0m\n",
            "\u001b[?25hDownloading jsonpatch-1.33-py2.py3-none-any.whl (12 kB)\n",
            "Downloading httpx_ws-0.6.2-py3-none-any.whl (14 kB)\n",
            "Downloading anyio-4.6.2.post1-py3-none-any.whl (90 kB)\n",
            "\u001b[2K   \u001b[90m━━━━━━━━━━━━━━━━━━━━━━━━━━━━━━━━━━━━━━━━\u001b[0m \u001b[32m90.4/90.4 kB\u001b[0m \u001b[31m4.8 MB/s\u001b[0m eta \u001b[36m0:00:00\u001b[0m\n",
            "\u001b[?25hDownloading h11-0.14.0-py3-none-any.whl (58 kB)\n",
            "\u001b[2K   \u001b[90m━━━━━━━━━━━━━━━━━━━━━━━━━━━━━━━━━━━━━━━━\u001b[0m \u001b[32m58.3/58.3 kB\u001b[0m \u001b[31m4.0 MB/s\u001b[0m eta \u001b[36m0:00:00\u001b[0m\n",
            "\u001b[?25hDownloading jsonpointer-3.0.0-py2.py3-none-any.whl (7.6 kB)\n",
            "Downloading wsproto-1.2.0-py3-none-any.whl (24 kB)\n",
            "Installing collected packages: orjson, jsonpointer, jiter, httpx-sse, h11, anyio, wsproto, requests-toolbelt, jsonpatch, httpcore, httpx, openai, langsmith, langgraph-sdk, httpx-ws, langchain-core, fireworks-ai, langgraph-checkpoint, langchain-text-splitters, langchain-fireworks, langgraph, langchain\n",
            "  Attempting uninstall: anyio\n",
            "    Found existing installation: anyio 3.7.1\n",
            "    Uninstalling anyio-3.7.1:\n",
            "      Successfully uninstalled anyio-3.7.1\n",
            "\u001b[31mERROR: pip's dependency resolver does not currently take into account all the packages that are installed. This behaviour is the source of the following dependency conflicts.\n",
            "jupyter-server 1.24.0 requires anyio<4,>=3.1.0, but you have anyio 4.6.2.post1 which is incompatible.\u001b[0m\u001b[31m\n",
            "\u001b[0mSuccessfully installed anyio-4.6.2.post1 fireworks-ai-0.15.7 h11-0.14.0 httpcore-1.0.6 httpx-0.27.2 httpx-sse-0.4.0 httpx-ws-0.6.2 jiter-0.6.1 jsonpatch-1.33 jsonpointer-3.0.0 langchain-0.3.4 langchain-core-0.3.12 langchain-fireworks-0.2.1 langchain-text-splitters-0.3.0 langgraph-0.2.39 langgraph-checkpoint-2.0.1 langgraph-sdk-0.1.33 langsmith-0.1.136 openai-1.52.0 orjson-3.10.9 requests-toolbelt-1.0.0 wsproto-1.2.0\n"
          ]
        }
      ]
    },
    {
      "cell_type": "code",
      "source": [
        "import getpass\n",
        "import os\n",
        "os.environ[\"LANGCHAIN_TRACING_V2\"]=\"true\"\n",
        "\"LANGCHAIN_ENDPOINT\"\"https://api.smith.langchain.com\"\n",
        "os.environ[\"LANGCHAIN_API_KEY\"]=getpass.getpass()"
      ],
      "metadata": {
        "colab": {
          "base_uri": "https://localhost:8080/"
        },
        "id": "Yf_d9qa3R5TZ",
        "outputId": "e6069eb7-2f20-48d4-e191-8a734520f10a"
      },
      "execution_count": 3,
      "outputs": [
        {
          "name": "stdout",
          "output_type": "stream",
          "text": [
            "··········\n"
          ]
        }
      ]
    },
    {
      "cell_type": "code",
      "source": [
        "os.environ['FIREWORKS_API_KEY'] = getpass.getpass()"
      ],
      "metadata": {
        "colab": {
          "base_uri": "https://localhost:8080/"
        },
        "id": "2PobsdjfUPzA",
        "outputId": "386170e6-118d-4a72-84eb-4fe321627698"
      },
      "execution_count": 4,
      "outputs": [
        {
          "name": "stdout",
          "output_type": "stream",
          "text": [
            "··········\n"
          ]
        }
      ]
    },
    {
      "cell_type": "code",
      "source": [
        "from typing import Annotated\n",
        "from typing_extensions import TypedDict\n",
        "from langgraph.graph import StateGraph, START, END\n",
        "from langgraph.graph.message import add_messages\n",
        "\n",
        "class State(TypedDict):\n",
        "  messages: Annotated[list, add_messages]\n",
        "\n",
        "graph_builder = StateGraph(State)\n"
      ],
      "metadata": {
        "id": "M4e1a8LAUkVD"
      },
      "execution_count": 5,
      "outputs": []
    },
    {
      "cell_type": "code",
      "source": [
        "from langchain_fireworks import ChatFireworks\n",
        "llm = ChatFireworks(model='accounts/fireworks/models/llama-v3p1-8b-instruct')\n",
        "\n",
        "def chatbot(state: State):\n",
        "  return{'messages': [llm.invoke(state[\"messages\"])]}\n",
        "\n",
        "graph_builder.add_node('chatbot', chatbot)\n"
      ],
      "metadata": {
        "colab": {
          "base_uri": "https://localhost:8080/"
        },
        "id": "2dj-zQ4ff8YK",
        "outputId": "74452740-3772-4079-e417-7e088a239450"
      },
      "execution_count": 6,
      "outputs": [
        {
          "output_type": "execute_result",
          "data": {
            "text/plain": [
              "<langgraph.graph.state.StateGraph at 0x7bbcd0e025c0>"
            ]
          },
          "metadata": {},
          "execution_count": 6
        }
      ]
    },
    {
      "cell_type": "code",
      "source": [
        "graph_builder.add_edge(START, 'chatbot')\n",
        "graph_builder.add_edge('chatbot', END)"
      ],
      "metadata": {
        "colab": {
          "base_uri": "https://localhost:8080/"
        },
        "id": "SSppC3-xhBea",
        "outputId": "d7c3a4d4-4d4a-47d9-91c3-b7da657e3ed0"
      },
      "execution_count": 7,
      "outputs": [
        {
          "output_type": "execute_result",
          "data": {
            "text/plain": [
              "<langgraph.graph.state.StateGraph at 0x7bbcd0e025c0>"
            ]
          },
          "metadata": {},
          "execution_count": 7
        }
      ]
    },
    {
      "cell_type": "code",
      "source": [
        "graph = graph_builder.compile()"
      ],
      "metadata": {
        "id": "P3ZRv4UphUyt"
      },
      "execution_count": 8,
      "outputs": []
    },
    {
      "cell_type": "code",
      "source": [
        "from IPython.display import Image, display\n",
        "\n",
        "try:\n",
        "  display(Image(graph.get_graph().draw_mermaid_png()))\n",
        "except Exception:\n",
        "  pass"
      ],
      "metadata": {
        "colab": {
          "base_uri": "https://localhost:8080/",
          "height": 251
        },
        "id": "idFKOjZShcbZ",
        "outputId": "4473cbfa-f561-4221-f3de-d7dda14a6987"
      },
      "execution_count": 10,
      "outputs": [
        {
          "output_type": "display_data",
          "data": {
            "image/jpeg": "[encoded data removed]",
            "text/plain": [
              "<IPython.core.display.Image object>"
            ]
          },
          "metadata": {}
        }
      ]
    },
    {
      "cell_type": "code",
      "source": [
        "def stream_graph_updates(user_input: str):\n",
        "  for event in graph.stream({\"messages\": [(\"user\", user_input)]}):\n",
        "    for value in event.values():\n",
        "      print(\"Assistant:\", value[\"messages\"][-1].content)\n",
        "\n",
        "while True:\n",
        "  user_input = input(\"User: \")\n",
        "  if user_input.lower() in [\"exit\", \"quit\", \"bye\"]:\n",
        "    break\n",
        "  stream_graph_updates(user_input)\n"
      ],
      "metadata": {
        "colab": {
          "base_uri": "https://localhost:8080/"
        },
        "id": "WPSwB801hRJP",
        "outputId": "3cdbfbaa-9b6e-4c9a-f699-3291d90e73d7"
      },
      "execution_count": 13,
      "outputs": [
        {
          "name": "stdout",
          "output_type": "stream",
          "text": [
            "User: Hi How are you\n",
            "Assistant: I'm just a computer program, so I don't have feelings, but thank you for asking! How can I assist you today?\n",
            "User: Do you know who am i\n",
            "Assistant: A classic reference to the song \"Who Am I\" by The Beatles!\n",
            "\n",
            "However, I'll play along and try to guess who you might be. To do so, I'll need a bit more information. Can you give me a hint or provide some clues about who you are? Are you a historical figure, a fictional character, a celebrity, or something else?\n",
            "User: Do you remember me\n",
            "Assistant: This is the beginning of our conversation, so I don't have any prior knowledge or memory of you. I'm a large language model, I don't have the ability to retain information about individual users or recall previous conversations. Each time you interact with me, it's a new conversation and I start from a blank slate. Would you like to start fresh and chat about something new?\n",
            "User: Do you remember me\n",
            "Assistant: This is the beginning of our conversation, so I don't have any prior knowledge or memory of you. I'm a large language model, I don't have the ability to retain information about individual users or recall previous conversations. Each time you interact with me, it's a new conversation and I start from a blank slate. Would you like to start fresh and chat about something new?\n",
            "User: exit\n"
          ]
        }
      ]
    },
    {
      "cell_type": "code",
      "source": [
        "%pip install -qU duckduckgo-search langchain-community"
      ],
      "metadata": {
        "colab": {
          "base_uri": "https://localhost:8080/"
        },
        "id": "jaRqgNwUj_NR",
        "outputId": "ed1c687b-e369-4014-c9d5-07f6f143ddc3"
      },
      "execution_count": 14,
      "outputs": [
        {
          "output_type": "stream",
          "name": "stdout",
          "text": [
            "\u001b[2K   \u001b[90m━━━━━━━━━━━━━━━━━━━━━━━━━━━━━━━━━━━━━━━━\u001b[0m \u001b[32m2.4/2.4 MB\u001b[0m \u001b[31m36.5 MB/s\u001b[0m eta \u001b[36m0:00:00\u001b[0m\n",
            "\u001b[2K   \u001b[90m━━━━━━━━━━━━━━━━━━━━━━━━━━━━━━━━━━━━━━━━\u001b[0m \u001b[32m3.0/3.0 MB\u001b[0m \u001b[31m56.9 MB/s\u001b[0m eta \u001b[36m0:00:00\u001b[0m\n",
            "\u001b[2K   \u001b[90m━━━━━━━━━━━━━━━━━━━━━━━━━━━━━━━━━━━━━━━━\u001b[0m \u001b[32m49.5/49.5 kB\u001b[0m \u001b[31m3.1 MB/s\u001b[0m eta \u001b[36m0:00:00\u001b[0m\n",
            "\u001b[?25h"
          ]
        }
      ]
    },
    {
      "cell_type": "code",
      "source": [
        "from langchain_community.utilities import DuckDuckGoSearchAPIWrapper\n",
        "from langchain_community.tools import DuckDuckGoSearchResults\n",
        "wrapper = DuckDuckGoSearchAPIWrapper(max_results=2)\n",
        "\n",
        "search = DuckDuckGoSearchResults(api_wrapper=wrapper, source=\"news\")\n",
        "\n",
        "search.invoke(\"Ratan Tata\")"
      ],
      "metadata": {
        "colab": {
          "base_uri": "https://localhost:8080/",
          "height": 157
        },
        "id": "0ZHM-hbzkJ0w",
        "outputId": "abce1f2c-772b-45c1-e33d-d6e0d36506fe"
      },
      "execution_count": 15,
      "outputs": [
        {
          "output_type": "execute_result",
          "data": {
            "text/plain": [
              "'snippet: Ratan Tata, the former chairman of Indian conglomerate Tata Group, has died at the age of 86, according to a statement from the firm. The industrialist rose to global prominence with a series of ..., title: Ratan Tata, Indian tycoon who took his empire global, dead at 86, link: https://www.cnn.com/2024/10/09/business/ratan-tata-death/index.html, snippet: Ratan Tata, who has died aged 86, was one of India\\'s most internationally recognised business leaders. The tycoon led the Tata Group - known as a \"salt-to-software\" conglomerate of more than 100 ..., title: Ratan Tata: The \\'modest\\' Indian tycoon who died at 86 - BBC, link: https://www.bbc.com/news/articles/cd11lz4vpr7o, snippet: Ratan Naval Tata was born on Dec. 28, 1937, in Bombay, now Mumbai, during the British Raj. His family belonged to the Parsi ethnic community, whose Zoroastrian ancestors fled persecution in Persia ..., title: Ratan Tata, Whose Indian Business Empire Went Global, Dies at 86, link: https://www.nytimes.com/2024/10/09/business/ratan-tata-dead.html, snippet: Ratan Tata touted the \"people\\'s car,\" as a \"safe, affordable, all-weather form of transport\" for millions of middle- and lower-income Indian consumers. However, due to low sales, the ..., title: Ratan Tata, an Indian industry legend and business icon, dies at 86 ..., link: https://www.latimes.com/obituaries/story/2024-10-10/ratan-tata-an-indian-industry-legend-and-business-icon-dies-aged-86'"
            ],
            "application/vnd.google.colaboratory.intrinsic+json": {
              "type": "string"
            }
          },
          "metadata": {},
          "execution_count": 15
        }
      ]
    },
    {
      "cell_type": "code",
      "source": [
        "from typing import Annotated\n",
        "from typing_extensions import TypedDict\n",
        "from langgraph.graph import StateGraph, START, END\n",
        "from langgraph.graph.message import add_messages\n",
        "from langchain_fireworks import ChatFireworks\n",
        "\n",
        "from langchain_community.utilities import DuckDuckGoSearchAPIWrapper\n",
        "from langchain_community.tools import DuckDuckGoSearchResults\n",
        "\n",
        "from langgraph.prebuilt import ToolNode, tools_condition\n",
        "\n",
        "\n",
        "\n",
        "class State(TypedDict):\n",
        "  messages: Annotated[list, add_messages]\n",
        "\n",
        "graph_builder = StateGraph(State)\n",
        "wrapper = DuckDuckGoSearchAPIWrapper(max_results=8)\n",
        "\n",
        "tool = DuckDuckGoSearchResults(api_wrapper=wrapper, source=\"all\")\n",
        "tools = [tool]\n",
        "tool_node = ToolNode(tools)\n",
        "\n",
        "llm = ChatFireworks(model='accounts/fireworks/models/llama-v3p1-8b-instruct')\n",
        "llm_with_tools = llm.bind_tools(tools)\n",
        "def chatbot(state: State):\n",
        "  return{'messages': [llm_with_tools.invoke(state[\"messages\"])]}\n",
        "\n",
        "def tools_con(state: State):\n",
        "  messages = State[\"messages\"]\n",
        "  last_message = messages[-1]\n",
        "  if last_message.tool_calls:\n",
        "    return \"tools\"\n",
        "  return END\n",
        "\n",
        "\n",
        "graph_builder.add_node(\"chatbot\", chatbot)\n",
        "\n",
        "\n",
        "graph_builder.add_node(\"tools\", tool_node) #tools\n",
        "\n",
        "graph_builder.add_edge(START, \"chatbot\")\n",
        "graph_builder.add_conditional_edges(\n",
        "    \"chatbot\",\n",
        "    tools_condition,\n",
        "     \"tools_con\",\n",
        "   # [\"tools\",END]\n",
        "   # [\"tools\", \"chatbot\"],\n",
        ")\n",
        "\n",
        "graph_builder.add_edge(\"tools\",\"chatbot\")\n",
        "graph_builder.set_entry_point(\"chatbot\")\n",
        "graph = graph_builder.compile()"
      ],
      "metadata": {
        "id": "7r82eYsDkgxe"
      },
      "execution_count": 91,
      "outputs": []
    },
    {
      "cell_type": "code",
      "source": [
        "from IPython.display import Image, display\n",
        "\n",
        "try:\n",
        "  display(Image(graph.get_graph().draw_mermaid_png()))\n",
        "except Exception:\n",
        "  pass"
      ],
      "metadata": {
        "colab": {
          "base_uri": "https://localhost:8080/",
          "height": 266
        },
        "id": "70yndzAiklth",
        "outputId": "c9ad05f4-b1ba-4a2c-c119-e866266f4d8f"
      },
      "execution_count": 92,
      "outputs": [
        {
          "output_type": "display_data",
          "data": {
            "image/jpeg": "[encoded data removed]",
            "text/plain": [
              "<IPython.core.display.Image object>"
            ]
          },
          "metadata": {}
        }
      ]
    },
    {
      "cell_type": "code",
      "source": [
        "while True:\n",
        "  user_input = input(\"User: \")\n",
        "  if user_input.lower() in [\"exit\", \"quit\", \"bye\"]:\n",
        "    break\n",
        "  stream_graph_updates(user_input)"
      ],
      "metadata": {
        "colab": {
          "base_uri": "https://localhost:8080/"
        },
        "id": "kVnhUp9MnVi3",
        "outputId": "877d4734-a317-4bc1-8a48-360a846d7722"
      },
      "execution_count": null,
      "outputs": [
        {
          "output_type": "stream",
          "name": "stdout",
          "text": [
            "User: tell me about ratan tata\n",
            "Assistant: Ratan Tata is a renowned Indian business magnate and philanthropist who has played a significant role in shaping the Tata Group, one of India's largest and most respected conglomerates. Here's a brief overview of his life and achievements:\n",
            "\n",
            "**Early Life and Education**\n",
            "\n",
            "Ratan Tata was born on December 28, 1937, in Surat, Gujarat, India. He is the son of Naval Tata, a member of the Tata family, and his wife, Sonoo Tata. Ratan is the great-grandson of Jamsetji Tata, the founder of the Tata Group. He studied at the Cathedral and John Connon School in Mumbai and later at Cornell University in the United States, where he earned a degree in architecture.\n",
            "\n",
            "**Career**\n",
            "\n",
            "Ratan Tata joined the Tata Group in 1962 and worked in various roles, including as a management trainee, a production manager, and a marketing manager. In 1981, he became the chairman of Tata Industries, a holding company that oversees the Tata Group's various businesses. In 1991, he took over as the chairman of Tata Sons, the flagship company of the Tata Group.\n",
            "\n",
            "Under Ratan Tata's leadership, the Tata Group expanded its operations globally and diversified its businesses into new areas, including information technology, telecommunications, and consumer products. He played a key role in the acquisition of several international companies, including Jaguar and Land Rover, Corus Group, and Tetley Tea.\n",
            "\n",
            "**Notable Achievements**\n",
            "\n",
            "Some of Ratan Tata's notable achievements include:\n",
            "\n",
            "1. **Transforming Tata Group**: Ratan Tata transformed the Tata Group from a family-owned business into a professionally managed global conglomerate with a diverse portfolio of companies.\n",
            "2. **Global Expansion**: He led the Tata Group's expansion into international markets, including the acquisition of several global companies.\n",
            "3. **Innovation and Diversification**: Ratan Tata encouraged innovation and diversification within the Tata Group, leading to the development of new businesses and products.\n",
            "4. **Philanthropy**: He has been a strong advocate for philanthropy and has supported various charitable causes, including education, healthcare, and disaster relief.\n",
            "5. **Leadership**: Ratan Tata has been recognized for his leadership skills and has received several awards, including the Padma Vibhushan, India's second-highest civilian honor.\n",
            "\n",
            "**Personal Life**\n",
            "\n",
            "Ratan Tata is known for his simple and humble lifestyle. He is a vegetarian and has been a vocal advocate for animal welfare and environmental conservation. He has been married to his wife, Simone Tata, since 1968, and they have two sons, Ratan Tata's son, Noel Tata, is a businessman and the chairman of Trent Limited, a Tata Group company.\n",
            "\n",
            "**Legacy**\n",
            "\n",
            "Ratan Tata's legacy is that of a visionary leader who transformed the Tata Group into a global conglomerate while maintaining its values of integrity, ethics, and social responsibility. He has inspired a new generation of business leaders and entrepreneurs in India and around the world.\n",
            "User: tell me about ratan tata\n",
            "Assistant: Ratan Tata is a renowned Indian business magnate and philanthropist who has played a significant role in shaping the Tata Group, one of India's largest and most respected conglomerates. Here's a brief overview of his life and achievements:\n",
            "\n",
            "**Early Life and Education**\n",
            "\n",
            "Ratan Tata was born on December 28, 1937, in Surat, Gujarat, India. He is the son of Naval Tata, a member of the Tata family, and his wife, Sonoo Tata. Ratan's great-grandfather, Jamsetji Tata, founded the Tata Group in 1868. Ratan's family has a long history of entrepreneurship and philanthropy.\n",
            "\n",
            "Ratan Tata earned his Bachelor's degree in Architecture from Cornell University in 1962 and later earned a Master's degree in Industrial Management from the Harvard Business School in 1975.\n",
            "\n",
            "**Career**\n",
            "\n",
            "Ratan Tata joined the Tata Group in 1962 and worked in various roles, including as a management trainee, a production manager, and a marketing manager. He became the chairman of Tata Sons, the holding company of the Tata Group, in 1991. During his tenure, he transformed the company into a global conglomerate with a diverse portfolio of businesses, including:\n",
            "\n",
            "1. **Tata Steel**: Ratan Tata played a crucial role in the modernization and expansion of Tata Steel, which became one of the largest steel producers in the world.\n",
            "2. **Tata Motors**: He led the acquisition of Jaguar and Land Rover in 2008, making Tata Motors a global player in the automotive industry.\n",
            "3. **Tata Consultancy Services (TCS)**: Ratan Tata oversaw the growth of TCS into one of the world's largest IT services companies.\n",
            "4. **Tata Power**: He expanded Tata Power's operations in the power generation and distribution sector.\n",
            "\n",
            "**Philanthropy**\n",
            "\n",
            "Ratan Tata is known for his philanthropic efforts, particularly in the areas of education, healthcare, and poverty alleviation. Some notable initiatives include:\n",
            "\n",
            "1. **Tata Trusts**: He chairs the Tata Trusts, a philanthropic organization that focuses on education, healthcare, and rural development.\n",
            "2. **Tata Memorial Centre**: Ratan Tata has supported the Tata Memorial Centre, a leading cancer research and treatment hospital in Mumbai.\n",
            "3. **Tata Institute of Fundamental Research (TIFR)**: He has contributed to the establishment of TIFR, a research institute focused on basic sciences and technology.\n",
            "\n",
            "**Awards and Recognition**\n",
            "\n",
            "Ratan Tata has received numerous awards and honors for his contributions to business, philanthropy, and society. Some notable awards include:\n",
            "\n",
            "1. **Padma Vibhushan**: India's second-highest civilian honor\n",
            "2. **Padma Bhushan**: India's third-highest civilian honor\n",
            "3. **Knight Commander of the Order of the British Empire (KBE)**: Awarded by the British government for his services to British business and philanthropy\n",
            "4. **Honorary degrees**: Ratan Tata has received honorary degrees from several universities, including the University of Cambridge, the University of Oxford, and the University of Pennsylvania.\n",
            "\n",
            "**Personal Life**\n",
            "\n",
            "Ratan Tata is married to his second wife, Simone Tata, and has two children from his first marriage. He is known for his simple and humble lifestyle, often preferring to travel in economy class and staying in modest accommodations.\n",
            "\n",
            "Overall, Ratan Tata is a highly respected business leader, philanthropist, and public figure who has made significant contributions to India's economic growth and social development.\n"
          ]
        }
      ]
    }
  ]
}