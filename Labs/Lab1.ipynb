{
  "nbformat": 4,
  "nbformat_minor": 0,
  "metadata": {
    "colab": {
      "provenance": []
    },
    "kernelspec": {
      "name": "python3",
      "display_name": "Python 3"
    },
    "language_info": {
      "name": "python"
    }
  },
  "cells": [
    {
      "cell_type": "markdown",
      "source": [
        "# Installing the required libraries"
      ],
      "metadata": {
        "id": "ZbyTSnFrwrRf"
      }
    },
    {
      "cell_type": "code",
      "execution_count": null,
      "metadata": {
        "colab": {
          "base_uri": "https://localhost:8080/"
        },
        "id": "ivoSQIm6wo9g",
        "outputId": "3cfd3176-3938-4f56-fb1e-6adda1ce92b2"
      },
      "outputs": [
        {
          "output_type": "stream",
          "name": "stdout",
          "text": [
            "Requirement already satisfied: transformers[sentencepiece] in /usr/local/lib/python3.10/dist-packages (4.44.2)\n",
            "Requirement already satisfied: filelock in /usr/local/lib/python3.10/dist-packages (from transformers[sentencepiece]) (3.16.1)\n",
            "Requirement already satisfied: huggingface-hub<1.0,>=0.23.2 in /usr/local/lib/python3.10/dist-packages (from transformers[sentencepiece]) (0.24.7)\n",
            "Requirement already satisfied: numpy>=1.17 in /usr/local/lib/python3.10/dist-packages (from transformers[sentencepiece]) (1.26.4)\n",
            "Requirement already satisfied: packaging>=20.0 in /usr/local/lib/python3.10/dist-packages (from transformers[sentencepiece]) (24.1)\n",
            "Requirement already satisfied: pyyaml>=5.1 in /usr/local/lib/python3.10/dist-packages (from transformers[sentencepiece]) (6.0.2)\n",
            "Requirement already satisfied: regex!=2019.12.17 in /usr/local/lib/python3.10/dist-packages (from transformers[sentencepiece]) (2024.9.11)\n",
            "Requirement already satisfied: requests in /usr/local/lib/python3.10/dist-packages (from transformers[sentencepiece]) (2.32.3)\n",
            "Requirement already satisfied: safetensors>=0.4.1 in /usr/local/lib/python3.10/dist-packages (from transformers[sentencepiece]) (0.4.5)\n",
            "Requirement already satisfied: tokenizers<0.20,>=0.19 in /usr/local/lib/python3.10/dist-packages (from transformers[sentencepiece]) (0.19.1)\n",
            "Requirement already satisfied: tqdm>=4.27 in /usr/local/lib/python3.10/dist-packages (from transformers[sentencepiece]) (4.66.5)\n",
            "Requirement already satisfied: protobuf in /usr/local/lib/python3.10/dist-packages (from transformers[sentencepiece]) (3.20.3)\n",
            "Requirement already satisfied: sentencepiece!=0.1.92,>=0.1.91 in /usr/local/lib/python3.10/dist-packages (from transformers[sentencepiece]) (0.2.0)\n",
            "Requirement already satisfied: fsspec>=2023.5.0 in /usr/local/lib/python3.10/dist-packages (from huggingface-hub<1.0,>=0.23.2->transformers[sentencepiece]) (2024.6.1)\n",
            "Requirement already satisfied: typing-extensions>=3.7.4.3 in /usr/local/lib/python3.10/dist-packages (from huggingface-hub<1.0,>=0.23.2->transformers[sentencepiece]) (4.12.2)\n",
            "Requirement already satisfied: charset-normalizer<4,>=2 in /usr/local/lib/python3.10/dist-packages (from requests->transformers[sentencepiece]) (3.4.0)\n",
            "Requirement already satisfied: idna<4,>=2.5 in /usr/local/lib/python3.10/dist-packages (from requests->transformers[sentencepiece]) (3.10)\n",
            "Requirement already satisfied: urllib3<3,>=1.21.1 in /usr/local/lib/python3.10/dist-packages (from requests->transformers[sentencepiece]) (2.2.3)\n",
            "Requirement already satisfied: certifi>=2017.4.17 in /usr/local/lib/python3.10/dist-packages (from requests->transformers[sentencepiece]) (2024.8.30)\n"
          ]
        }
      ],
      "source": [
        "!pip install transformers[sentencepiece]"
      ]
    },
    {
      "cell_type": "markdown",
      "source": [
        "# Importing the pipeline"
      ],
      "metadata": {
        "id": "xhKHnsBTxMPQ"
      }
    },
    {
      "cell_type": "code",
      "source": [
        "from transformers import pipeline"
      ],
      "metadata": {
        "id": "hi-Ofn0z1o7n"
      },
      "execution_count": null,
      "outputs": []
    },
    {
      "cell_type": "markdown",
      "source": [
        "## Part-1"
      ],
      "metadata": {
        "id": "A727Pij-1ukk"
      }
    },
    {
      "cell_type": "code",
      "source": [
        "# Complete the following code\n",
        "# Write about the model that you will be using\n",
        "def get_sentiment(sentences:list):\n",
        "  # write your code here\n",
        "\n",
        "  return sentiment_scores"
      ],
      "metadata": {
        "id": "35hgMCdKxdiU"
      },
      "execution_count": null,
      "outputs": []
    },
    {
      "cell_type": "code",
      "source": [
        "sentences = ['My favorite bar in town love the live music and the martinis - fave is the strawberry shortcake!',\n",
        "             'BED BUGS!!! Horrible place! DO NOT STAY HERE!! Stayed here for a wedding we attended.',\n",
        "             'This was by far the worst hotel experience I've ever had.',\n",
        "             'AVOID THIS PLACE LIKE THEY SERVE SALMONELLA!',\n",
        "             'A great independent music store.  Really good selection',\n",
        "             'The best pawn shop in Las Vegas',\n",
        "             'This place is GREAT! Got rid of some jewelry I never wear and they got me the beat price for it.']\n",
        "\n",
        "scores = get_sentiment(sentences)"
      ],
      "metadata": {
        "id": "P2Z6XSugy9o0"
      },
      "execution_count": null,
      "outputs": []
    },
    {
      "cell_type": "markdown",
      "source": [
        "## Part-2"
      ],
      "metadata": {
        "id": "3l4zUZfN1xEQ"
      }
    },
    {
      "cell_type": "code",
      "source": [
        "# Complete the following definition\n",
        "# Write about the model that you will be using\n",
        "def get_answers(context:str, question:str):\n",
        "  # Write your code here\n",
        "\n",
        "  return answer"
      ],
      "metadata": {
        "id": "y0qIIMu41-9U"
      },
      "execution_count": null,
      "outputs": []
    },
    {
      "cell_type": "code",
      "source": [
        "context = \"\"\n",
        "question = \"\"\n",
        "answer = get_answers(context, question)"
      ],
      "metadata": {
        "id": "dG3ofLM-2PpJ"
      },
      "execution_count": null,
      "outputs": []
    },
    {
      "cell_type": "markdown",
      "source": [
        "## Part-3"
      ],
      "metadata": {
        "id": "OHWm4z8k3hi0"
      }
    },
    {
      "cell_type": "code",
      "source": [
        "def get_NER(sentences):\n",
        "  # Write your code here\n",
        "\n",
        "  return NER_scores"
      ],
      "metadata": {
        "id": "RTeCvXIE3jss"
      },
      "execution_count": null,
      "outputs": []
    }
  ]
}