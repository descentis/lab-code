{
  "cells": [
    {
      "cell_type": "code",
      "execution_count": 5,
      "metadata": {
        "colab": {
          "base_uri": "https://localhost:8080/"
        },
        "id": "OW0-2LaDRM-4",
        "outputId": "d2972941-1493-4d7e-d37c-ca9d8656f63f"
      },
      "outputs": [
        {
          "name": "stdout",
          "output_type": "stream",
          "text": [
            "Requirement already satisfied: openai in /usr/local/lib/python3.10/dist-packages (1.52.2)\n",
            "Requirement already satisfied: anyio<5,>=3.5.0 in /usr/local/lib/python3.10/dist-packages (from openai) (3.7.1)\n",
            "Requirement already satisfied: distro<2,>=1.7.0 in /usr/local/lib/python3.10/dist-packages (from openai) (1.9.0)\n",
            "Requirement already satisfied: httpx<1,>=0.23.0 in /usr/local/lib/python3.10/dist-packages (from openai) (0.27.2)\n",
            "Requirement already satisfied: jiter<1,>=0.4.0 in /usr/local/lib/python3.10/dist-packages (from openai) (0.6.1)\n",
            "Requirement already satisfied: pydantic<3,>=1.9.0 in /usr/local/lib/python3.10/dist-packages (from openai) (2.9.2)\n",
            "Requirement already satisfied: sniffio in /usr/local/lib/python3.10/dist-packages (from openai) (1.3.1)\n",
            "Requirement already satisfied: tqdm>4 in /usr/local/lib/python3.10/dist-packages (from openai) (4.66.6)\n",
            "Requirement already satisfied: typing-extensions<5,>=4.11 in /usr/local/lib/python3.10/dist-packages (from openai) (4.12.2)\n",
            "Requirement already satisfied: idna>=2.8 in /usr/local/lib/python3.10/dist-packages (from anyio<5,>=3.5.0->openai) (3.10)\n",
            "Requirement already satisfied: exceptiongroup in /usr/local/lib/python3.10/dist-packages (from anyio<5,>=3.5.0->openai) (1.2.2)\n",
            "Requirement already satisfied: certifi in /usr/local/lib/python3.10/dist-packages (from httpx<1,>=0.23.0->openai) (2024.8.30)\n",
            "Requirement already satisfied: httpcore==1.* in /usr/local/lib/python3.10/dist-packages (from httpx<1,>=0.23.0->openai) (1.0.6)\n",
            "Requirement already satisfied: h11<0.15,>=0.13 in /usr/local/lib/python3.10/dist-packages (from httpcore==1.*->httpx<1,>=0.23.0->openai) (0.14.0)\n",
            "Requirement already satisfied: annotated-types>=0.6.0 in /usr/local/lib/python3.10/dist-packages (from pydantic<3,>=1.9.0->openai) (0.7.0)\n",
            "Requirement already satisfied: pydantic-core==2.23.4 in /usr/local/lib/python3.10/dist-packages (from pydantic<3,>=1.9.0->openai) (2.23.4)\n",
            "Requirement already satisfied: openai in /usr/local/lib/python3.10/dist-packages (1.52.2)\n",
            "Requirement already satisfied: anyio<5,>=3.5.0 in /usr/local/lib/python3.10/dist-packages (from openai) (3.7.1)\n",
            "Requirement already satisfied: distro<2,>=1.7.0 in /usr/local/lib/python3.10/dist-packages (from openai) (1.9.0)\n",
            "Requirement already satisfied: httpx<1,>=0.23.0 in /usr/local/lib/python3.10/dist-packages (from openai) (0.27.2)\n",
            "Requirement already satisfied: jiter<1,>=0.4.0 in /usr/local/lib/python3.10/dist-packages (from openai) (0.6.1)\n",
            "Requirement already satisfied: pydantic<3,>=1.9.0 in /usr/local/lib/python3.10/dist-packages (from openai) (2.9.2)\n",
            "Requirement already satisfied: sniffio in /usr/local/lib/python3.10/dist-packages (from openai) (1.3.1)\n",
            "Requirement already satisfied: tqdm>4 in /usr/local/lib/python3.10/dist-packages (from openai) (4.66.6)\n",
            "Requirement already satisfied: typing-extensions<5,>=4.11 in /usr/local/lib/python3.10/dist-packages (from openai) (4.12.2)\n",
            "Requirement already satisfied: idna>=2.8 in /usr/local/lib/python3.10/dist-packages (from anyio<5,>=3.5.0->openai) (3.10)\n",
            "Requirement already satisfied: exceptiongroup in /usr/local/lib/python3.10/dist-packages (from anyio<5,>=3.5.0->openai) (1.2.2)\n",
            "Requirement already satisfied: certifi in /usr/local/lib/python3.10/dist-packages (from httpx<1,>=0.23.0->openai) (2024.8.30)\n",
            "Requirement already satisfied: httpcore==1.* in /usr/local/lib/python3.10/dist-packages (from httpx<1,>=0.23.0->openai) (1.0.6)\n",
            "Requirement already satisfied: h11<0.15,>=0.13 in /usr/local/lib/python3.10/dist-packages (from httpcore==1.*->httpx<1,>=0.23.0->openai) (0.14.0)\n",
            "Requirement already satisfied: annotated-types>=0.6.0 in /usr/local/lib/python3.10/dist-packages (from pydantic<3,>=1.9.0->openai) (0.7.0)\n",
            "Requirement already satisfied: pydantic-core==2.23.4 in /usr/local/lib/python3.10/dist-packages (from pydantic<3,>=1.9.0->openai) (2.23.4)\n"
          ]
        }
      ],
      "source": [
        "!pip install openai"
      ]
    },
    {
      "cell_type": "code",
      "execution_count": 17,
      "metadata": {
        "colab": {
          "base_uri": "https://localhost:8080/"
        },
        "id": "ryj45FMLT8Za",
        "outputId": "da5395b6-ae8d-4aff-ab67-6fd7e2440b6e"
      },
      "outputs": [
        {
          "name": "stdout",
          "output_type": "stream",
          "text": [
            "{\n",
            "  \"id\": \"chatcmpl-APNDVDGQyRylSjkOXmNX1EdYR4spP\",\n",
            "  \"choices\": [\n",
            "    {\n",
            "      \"finish_reason\": \"stop\",\n",
            "      \"index\": 0,\n",
            "      \"logprobs\": null,\n",
            "      \"message\": {\n",
            "        \"content\": \"Playing cricket can be moderately difficult, especially for those who are new to the sport or have limited experience. Cricket requires a combination of skills such as batting, bowling, fielding, and catching, which may take time to develop. Additionally, understanding the rules and tactics of the game, as well as improving hand-eye coordination, can also pose challenges. However, with practice, coaching, and dedication, anyone can learn to play cricket and enjoy the sport.\",\n",
            "        \"role\": \"assistant\"\n",
            "      },\n",
            "      \"content_filter_results\": {\n",
            "        \"hate\": {\n",
            "          \"filtered\": false,\n",
            "          \"severity\": \"safe\"\n",
            "        },\n",
            "        \"protected_material_code\": {\n",
            "          \"filtered\": false,\n",
            "          \"detected\": false\n",
            "        },\n",
            "        \"protected_material_text\": {\n",
            "          \"filtered\": false,\n",
            "          \"detected\": false\n",
            "        },\n",
            "        \"self_harm\": {\n",
            "          \"filtered\": false,\n",
            "          \"severity\": \"safe\"\n",
            "        },\n",
            "        \"sexual\": {\n",
            "          \"filtered\": false,\n",
            "          \"severity\": \"safe\"\n",
            "        },\n",
            "        \"violence\": {\n",
            "          \"filtered\": false,\n",
            "          \"severity\": \"safe\"\n",
            "        }\n",
            "      }\n",
            "    }\n",
            "  ],\n",
            "  \"created\": 1730610809,\n",
            "  \"model\": \"gpt-35-turbo-16k\",\n",
            "  \"object\": \"chat.completion\",\n",
            "  \"system_fingerprint\": null,\n",
            "  \"usage\": {\n",
            "    \"completion_tokens\": 91,\n",
            "    \"prompt_tokens\": 30,\n",
            "    \"total_tokens\": 121\n",
            "  },\n",
            "  \"prompt_filter_results\": [\n",
            "    {\n",
            "      \"prompt_index\": 0,\n",
            "      \"content_filter_results\": {\n",
            "        \"hate\": {\n",
            "          \"filtered\": false,\n",
            "          \"severity\": \"safe\"\n",
            "        },\n",
            "        \"jailbreak\": {\n",
            "          \"filtered\": false,\n",
            "          \"detected\": false\n",
            "        },\n",
            "        \"self_harm\": {\n",
            "          \"filtered\": false,\n",
            "          \"severity\": \"safe\"\n",
            "        },\n",
            "        \"sexual\": {\n",
            "          \"filtered\": false,\n",
            "          \"severity\": \"safe\"\n",
            "        },\n",
            "        \"violence\": {\n",
            "          \"filtered\": false,\n",
            "          \"severity\": \"safe\"\n",
            "        }\n",
            "      }\n",
            "    }\n",
            "  ]\n",
            "}\n"
          ]
        }
      ],
      "source": [
        "import os\n",
        "from openai import AzureOpenAI\n",
        "\n",
        "endpoint = os.getenv(\"ENDPOINT_URL\", \"https://genaichat.openai.azure.com/\")\n",
        "deployment = os.getenv(\"DEPLOYMENT_NAME\", \"gpt-35-turbo-16k\")\n",
        "subscription_key = os.getenv(\"AZURE_OPENAI_API_KEY\", \"DZk7fRKaIb08MNUdMB1VgLQ7DR5a4Ur7AvFBYS3vlsByg4qNRPJQQJ99AJACfhMk5XJ3w3AAABACOGvMQy\")\n",
        "\n",
        "# Initialize Azure OpenAI client with key-based authentication\n",
        "client = AzureOpenAI(\n",
        "    azure_endpoint=endpoint,\n",
        "    api_key=subscription_key,\n",
        "    api_version=\"2024-05-01-preview\",\n",
        ")\n",
        "\n",
        "# Prepare the chat prompt\n",
        "chat_prompt = [\n",
        "{\n",
        "    \"role\": \"system\",\n",
        "    \"content\": \"You are an AI assistant that helps people find information.\"\n",
        "},\n",
        "                {\"role\":\"user\",\n",
        "                 \"content\":\"How difficult is to lpay cricket?\"\n",
        "                 }\n",
        "]\n",
        "\n",
        "# Include speech result if speech is enabled\n",
        "speech_result = chat_prompt\n",
        "\n",
        "# Generate the completion\n",
        "completion = client.chat.completions.create(\n",
        "    model=deployment,\n",
        "    messages=speech_result,\n",
        "    max_tokens=800,\n",
        "    temperature=0.7,\n",
        "    top_p=0.95,\n",
        "    frequency_penalty=0,\n",
        "    presence_penalty=0,\n",
        "    stop=None,\n",
        "    stream=False\n",
        ")\n",
        "\n",
        "print(completion.to_json())"
      ]
    },
    {
      "cell_type": "code",
      "execution_count": 18,
      "metadata": {
        "colab": {
          "base_uri": "https://localhost:8080/"
        },
        "id": "IeXlJNA9cCq8",
        "outputId": "ae9226f6-e4cb-4ab4-dd0e-c0fbfeadc002"
      },
      "outputs": [
        {
          "name": "stdout",
          "output_type": "stream",
          "text": [
            "Playing cricket can be moderately difficult, especially for those who are new to the sport or have limited experience. Cricket requires a combination of skills such as batting, bowling, fielding, and catching, which may take time to develop. Additionally, understanding the rules and tactics of the game, as well as improving hand-eye coordination, can also pose challenges. However, with practice, coaching, and dedication, anyone can learn to play cricket and enjoy the sport.\n"
          ]
        }
      ],
      "source": [
        "\n",
        "print(completion.choices[0].message.content)"
      ]
    },
    {
      "cell_type": "code",
      "execution_count": 2,
      "metadata": {
        "colab": {
          "base_uri": "https://localhost:8080/"
        },
        "id": "oX1ogmBZcYGO",
        "outputId": "fd8d7650-7716-4c5c-a124-951e120fe952"
      },
      "outputs": [
        {
          "name": "stdout",
          "output_type": "stream",
          "text": [
            "Enter Language Preference example like java, python: python\n",
            "Enter Your Prompt: how to learn python\n",
            "To learn Python, you can follow these steps:\n",
            "\n",
            "1. Set up your development environment: Install Python on your computer. You can download the latest version of Python from the official website (https://www.python.org/downloads/). Additionally, you may want to install a code editor or integrated development environment (IDE) like Visual Studio Code, PyCharm, or Atom.\n",
            "\n",
            "2. Learn the basics: Start with the fundamentals of Python programming. Familiarize yourself with concepts such as variables, data types, operators, control flow (if-else statements, loops), and functions. You can find beginner-friendly tutorials and online courses on websites like Codecademy, Coursera, Udemy, or free resources like the official Python documentation (https://docs.python.org/3/tutorial/index.html).\n",
            "\n",
            "3. Practice coding: The best way to learn Python is by coding regularly. Start with small projects and exercises to reinforce what you've learned. Websites like HackerRank, LeetCode, or Project Euler offer coding challenges that can help you improve your skills.\n",
            "\n",
            "4. Read books and documentation: There are many books available that cover Python programming in depth. Some popular options include \"Python Crash Course\" by Eric Matthes, \"Automate the Boring Stuff with Python\" by Al Sweigart, and \"Python Cookbook\" by David Beazley and Brian K. Jones. Additionally, the official Python documentation is an excellent resource for understanding the language and its modules.\n",
            "\n",
            "5. Join online communities: Engaging with other Python learners and experienced programmers can be very beneficial. Join online forums, such as Reddit's r/learnpython or Stack Overflow, where you can ask questions, share your code, and learn from others. You can also join Python-related groups on social media platforms like Facebook or LinkedIn.\n",
            "\n",
            "6. Work on real-world projects: As you gain confidence in your Python skills, start working on real-world projects that interest you. Building projects will not only help you apply what you've learned but also provide you with valuable experience and practical knowledge.\n",
            "\n",
            "7. Contribute to open-source projects: Once you become more proficient in Python, consider contributing to open-source projects. This will give you exposure to real-world codebases and allow you to collaborate with experienced developers.\n",
            "\n",
            "Remember, learning Python (or any programming language) takes time and practice. Be patient, keep coding regularly, and don't hesitate to ask for help when needed.\n",
            "Enter Your Prompt: how to start\n",
            "To start learning Python, follow these steps:\n",
            "\n",
            "1. Install Python: Download and install the latest version of Python from the official Python website (https://www.python.org/downloads/). Make sure to choose the appropriate version for your operating system (Windows, macOS, or Linux).\n",
            "\n",
            "2. Choose a code editor or IDE: Select a code editor or integrated development environment (IDE) for writing your Python code. Some popular options are Visual Studio Code, PyCharm, Atom, or Sublime Text. Install and set up your preferred editor/IDE.\n",
            "\n",
            "3. Learn the basics: Start by learning the fundamentals of Python programming. Understand concepts like variables, data types (strings, numbers, lists, etc.), operators, control flow (if-else statements, loops), and functions. You can find beginner-friendly tutorials and courses online, such as Codecademy's Python course (https://www.codecademy.com/learn/learn-python) or the Python Crash Course book by Eric Matthes.\n",
            "\n",
            "4. Practice coding: The best way to learn Python is through practice. Start with small coding exercises and challenges to reinforce your understanding. Websites like HackerRank (https://www.hackerrank.com/domains/tutorials/10-days-of-statistics), LeetCode (https://leetcode.com/), or Project Euler (https://projecteuler.net/) offer coding challenges to solve.\n",
            "\n",
            "5. Work on projects: Once you feel comfortable with the basics, start working on small projects. Choose projects that interest you and align with your learning goals. For example, you can build a simple calculator, a web scraper, or a basic game. Working on projects will help you apply what you've learned and gain practical experience.\n",
            "\n",
            "6. Seek additional resources: Expand your knowledge by exploring more advanced topics in Python. Read books like \"Fluent Python\" by Luciano Ramalho or \"Python Cookbook\" by David Beazley and Brian K. Jones. Explore Python's standard library and popular third-party libraries like NumPy, Pandas, or Django. The official Python documentation (https://docs.python.org/3/) is a valuable resource for understanding different Python modules and their usage.\n",
            "\n",
            "7. Join a community: Engage with the Python community to learn from and collaborate with others. Join online forums like Reddit's r/learnpython or Stack Overflow to ask questions, share your code, and learn from experienced programmers. Attend Python meetups or conferences to network with fellow learners and professionals.\n",
            "\n",
            "Remember, learning Python is a gradual process. Take it step by step, practice regularly, and don't be afraid to make mistakes. Enjoy the journey and have fun exploring the world of Python programming!\n",
            "Enter Your Prompt: quit\n"
          ]
        }
      ],
      "source": [
        "import os\n",
        "from openai import AzureOpenAI\n",
        "\n",
        "endpoint = os.getenv(\"ENDPOINT_URL\", \"https://genaichat.openai.azure.com/\")\n",
        "deployment = os.getenv(\"DEPLOYMENT_NAME\", \"gpt-35-turbo-16k\")\n",
        "subscription_key = os.getenv(\"AZURE_OPENAI_API_KEY\", \"DZk7fRKaIb08MNUdMB1VgLQ7DR5a4UrvFBYS3v7JlsByg4qNRPJQQJ99AJACfhMk5XJ3w3AAABACOGvMQy\")\n",
        "\n",
        "# Initialize Azure OpenAI client with key-based authentication\n",
        "client = AzureOpenAI(\n",
        "    azure_endpoint=endpoint,\n",
        "    api_key=subscription_key,\n",
        "    api_version=\"2024-05-01-preview\",\n",
        ")\n",
        "\n",
        "system_message =  \"\"\"\n",
        "\n",
        "    I am a hiking enthusiast named Forest who helps people discover hikes in their area.\n",
        "    If no area is specified, I will default to near Rainier National Park.\n",
        "    I will then provide three suggestions for nearby hikes that vary in length.\n",
        "    I will also share an interesting fact about the local nature on the hikes when making a recommendation\n",
        ".\n",
        "    \"\"\"\n",
        "language = input(\"Enter Language Preference example like java, python: \")\n",
        "\n",
        "if language ==\"python\":\n",
        "  system_message = \"you are an assistant for learning python\"\n",
        "elif language == \"java\":\n",
        "  system_message = \"you are an assistant for learning java\"\n",
        "\n",
        "# Prepare the chat prompt\n",
        "chat_history = [{\"role\":\"system\",\"content\":system_message}]\n",
        "\n",
        "while True:\n",
        "\n",
        "  input_text = input(\"Enter Your Prompt: \")\n",
        "\n",
        "  if input_text.lower() == \"quit\":\n",
        "    break\n",
        "  if len(input_text)==0:\n",
        "    print(\"Give Your Input Prompt: \")\n",
        "\n",
        "  chat_history.append({'role':\"user\",\"content\":input_text})\n",
        "\n",
        "  # Include speech result if speech is enabled\n",
        "  speech_result = chat_history\n",
        "\n",
        "  # Generate the completion\n",
        "  completion = client.chat.completions.create(\n",
        "      model=deployment,\n",
        "      messages=speech_result,\n",
        "      max_tokens=800,\n",
        "      temperature=0.7,\n",
        "      top_p=0.95,\n",
        "      frequency_penalty=0,\n",
        "      presence_penalty=0,\n",
        "      stop=None,\n",
        "      stream=False\n",
        "  )\n",
        "\n",
        "\n",
        "  print(completion.choices[0].message.content)\n",
        "  chat_history.append({'role':\"assistant\",\"content\":completion.choices[0].message.content})\n"
      ]
    },
    {
      "cell_type": "code",
      "execution_count": 3,
      "metadata": {
        "colab": {
          "base_uri": "https://localhost:8080/"
        },
        "id": "dz_FZliRQoRn",
        "outputId": "24604fe8-4a57-4274-fd67-501ea4e67122"
      },
      "outputs": [
        {
          "name": "stdout",
          "output_type": "stream",
          "text": [
            "Collecting azure-ai-textanalytics\n",
            "  Downloading azure_ai_textanalytics-5.3.0-py3-none-any.whl.metadata (82 kB)\n",
            "\u001b[?25l     \u001b[90m━━━━━━━━━━━━━━━━━━━━━━━━━━━━━━━━━━━━━━━━\u001b[0m \u001b[32m0.0/82.8 kB\u001b[0m \u001b[31m?\u001b[0m eta \u001b[36m-:--:--\u001b[0m\r\u001b[2K     \u001b[90m━━━━━━━━━━━━━━━━━━━━━━━━━━━━━━━━━━━━━━━━\u001b[0m \u001b[32m82.8/82.8 kB\u001b[0m \u001b[31m2.5 MB/s\u001b[0m eta \u001b[36m0:00:00\u001b[0m\n",
            "\u001b[?25hCollecting azure-core<2.0.0,>=1.24.0 (from azure-ai-textanalytics)\n",
            "  Downloading azure_core-1.32.0-py3-none-any.whl.metadata (39 kB)\n",
            "Collecting azure-common~=1.1 (from azure-ai-textanalytics)\n",
            "  Downloading azure_common-1.1.28-py2.py3-none-any.whl.metadata (5.0 kB)\n",
            "Collecting isodate<1.0.0,>=0.6.1 (from azure-ai-textanalytics)\n",
            "  Downloading isodate-0.7.2-py3-none-any.whl.metadata (11 kB)\n",
            "Requirement already satisfied: typing-extensions>=4.0.1 in /usr/local/lib/python3.10/dist-packages (from azure-ai-textanalytics) (4.12.2)\n",
            "Requirement already satisfied: requests>=2.21.0 in /usr/local/lib/python3.10/dist-packages (from azure-core<2.0.0,>=1.24.0->azure-ai-textanalytics) (2.32.3)\n",
            "Requirement already satisfied: six>=1.11.0 in /usr/local/lib/python3.10/dist-packages (from azure-core<2.0.0,>=1.24.0->azure-ai-textanalytics) (1.16.0)\n",
            "Requirement already satisfied: charset-normalizer<4,>=2 in /usr/local/lib/python3.10/dist-packages (from requests>=2.21.0->azure-core<2.0.0,>=1.24.0->azure-ai-textanalytics) (3.4.0)\n",
            "Requirement already satisfied: idna<4,>=2.5 in /usr/local/lib/python3.10/dist-packages (from requests>=2.21.0->azure-core<2.0.0,>=1.24.0->azure-ai-textanalytics) (3.10)\n",
            "Requirement already satisfied: urllib3<3,>=1.21.1 in /usr/local/lib/python3.10/dist-packages (from requests>=2.21.0->azure-core<2.0.0,>=1.24.0->azure-ai-textanalytics) (2.2.3)\n",
            "Requirement already satisfied: certifi>=2017.4.17 in /usr/local/lib/python3.10/dist-packages (from requests>=2.21.0->azure-core<2.0.0,>=1.24.0->azure-ai-textanalytics) (2024.8.30)\n",
            "Downloading azure_ai_textanalytics-5.3.0-py3-none-any.whl (298 kB)\n",
            "\u001b[2K   \u001b[90m━━━━━━━━━━━━━━━━━━━━━━━━━━━━━━━━━━━━━━━━\u001b[0m \u001b[32m298.6/298.6 kB\u001b[0m \u001b[31m9.5 MB/s\u001b[0m eta \u001b[36m0:00:00\u001b[0m\n",
            "\u001b[?25hDownloading azure_common-1.1.28-py2.py3-none-any.whl (14 kB)\n",
            "Downloading azure_core-1.32.0-py3-none-any.whl (198 kB)\n",
            "\u001b[2K   \u001b[90m━━━━━━━━━━━━━━━━━━━━━━━━━━━━━━━━━━━━━━━━\u001b[0m \u001b[32m198.9/198.9 kB\u001b[0m \u001b[31m14.1 MB/s\u001b[0m eta \u001b[36m0:00:00\u001b[0m\n",
            "\u001b[?25hDownloading isodate-0.7.2-py3-none-any.whl (22 kB)\n",
            "Installing collected packages: azure-common, isodate, azure-core, azure-ai-textanalytics\n",
            "Successfully installed azure-ai-textanalytics-5.3.0 azure-common-1.1.28 azure-core-1.32.0 isodate-0.7.2\n"
          ]
        }
      ],
      "source": [
        "!pip install azure-ai-textanalytics"
      ]
    }
  ],
  "metadata": {
    "colab": {
      "provenance": []
    },
    "kernelspec": {
      "display_name": "Python 3",
      "name": "python3"
    },
    "language_info": {
      "name": "python"
    }
  },
  "nbformat": 4,
  "nbformat_minor": 0
}
